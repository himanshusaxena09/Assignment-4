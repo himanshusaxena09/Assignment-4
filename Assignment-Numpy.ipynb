{
 "cells": [
  {
   "cell_type": "code",
   "execution_count": 2,
   "id": "5b131a7c-baf1-4b69-beac-827af9e30866",
   "metadata": {},
   "outputs": [
    {
     "name": "stdout",
     "output_type": "stream",
     "text": [
      "Data type: int64\n"
     ]
    }
   ],
   "source": [
    " # Create a NumPy array 'arr' of integers from 0 to 5 and print its data type.\n",
    "\n",
    "import numpy as np\n",
    "\n",
    "arr = np.arange(6)\n",
    "\n",
    "print(\"Data type:\", arr.dtype)"
   ]
  },
  {
   "cell_type": "code",
   "execution_count": 4,
   "id": "2ce2b611-ce1a-4ac0-93c8-5f85772dbf41",
   "metadata": {},
   "outputs": [
    {
     "name": "stdout",
     "output_type": "stream",
     "text": [
      "The array data type is float64.\n"
     ]
    }
   ],
   "source": [
    "# Given a NumPy array 'arr', check if its data type is float64.\n",
    "\n",
    "arr = np.array([1.5, 2.6, 3.7])\n",
    "\n",
    "if arr.dtype == np.float64:\n",
    "    print(\"The array data type is float64.\")\n",
    "else:\n",
    "    print(\"The array data type is not float64.\")"
   ]
  },
  {
   "cell_type": "code",
   "execution_count": 6,
   "id": "94406459-9bee-4b62-9939-91a5f51107a9",
   "metadata": {},
   "outputs": [
    {
     "name": "stdout",
     "output_type": "stream",
     "text": [
      "Data type: complex128\n"
     ]
    }
   ],
   "source": [
    "# Create a NumPy array 'arr' with a data type of complex128 containing three complex numbers.\n",
    "\n",
    "arr = np.array([1+2j, 3+4j, 5+6j])\n",
    "\n",
    "print(\"Data type:\", arr.dtype)"
   ]
  },
  {
   "cell_type": "code",
   "execution_count": 8,
   "id": "56c0ec29-4601-413e-b0cb-9bf30c46b7e8",
   "metadata": {},
   "outputs": [
    {
     "name": "stdout",
     "output_type": "stream",
     "text": [
      "Converted Array: [1. 2. 3. 4. 5.]\n",
      "Data type: float32\n"
     ]
    }
   ],
   "source": [
    "# Convert an existing NumPy array 'arr' of integers to float32 data type.\n",
    "\n",
    "arr = np.array([1, 2, 3, 4, 5])\n",
    "\n",
    "arr_float32 = arr.astype(np.float32)\n",
    "\n",
    "print(\"Converted Array:\", arr_float32)\n",
    "print(\"Data type:\", arr_float32.dtype)"
   ]
  },
  {
   "cell_type": "code",
   "execution_count": 10,
   "id": "87f5555d-ab91-4048-bd1b-02a79ffb4fc6",
   "metadata": {},
   "outputs": [
    {
     "name": "stdout",
     "output_type": "stream",
     "text": [
      "Data type: float32\n"
     ]
    }
   ],
   "source": [
    "# Given a NumPy array 'arr' with float64 data type, convert it to float32 to reduce decimal precision.\n",
    "\n",
    "arr = np.array([1, 2, 3, 4, 5])\n",
    "\n",
    "arr_float32 = arr.astype(np.float32)\n",
    "\n",
    "print(\"Data type:\", arr_float32.dtype)"
   ]
  },
  {
   "cell_type": "code",
   "execution_count": 12,
   "id": "ea4ba63d-7aaa-48a8-aa6e-14243028f522",
   "metadata": {},
   "outputs": [
    {
     "name": "stdout",
     "output_type": "stream",
     "text": [
      "Shape: (2, 3)\n",
      "Size: 6\n",
      "Data type: int64\n"
     ]
    }
   ],
   "source": [
    "# Write a function array_attributes that takes a NumPy array as input and returns its shape, size, and data\n",
    "# type\n",
    "\n",
    "def array_attributes(arr):\n",
    "   return arr.shape, arr.size, arr.dtype\n",
    "\n",
    "arr = np.array([[1, 2, 3], [4, 5, 6]])\n",
    "shape, size, dtype = array_attributes(arr)\n",
    "print(\"Shape:\", shape)\n",
    "print(\"Size:\", size)\n",
    "print(\"Data type:\", dtype)"
   ]
  },
  {
   "cell_type": "code",
   "execution_count": 14,
   "id": "3641c40d-83e4-4c8d-8b75-0fc6d650a9bd",
   "metadata": {},
   "outputs": [
    {
     "name": "stdout",
     "output_type": "stream",
     "text": [
      "arr1 dimension: 1\n",
      "arr2 dimension: 2\n"
     ]
    }
   ],
   "source": [
    "# Create a function array_dimension that takes a NumPy array as input and returns its dimensionality\n",
    "\n",
    "def array_dimension(arr):\n",
    "    return arr.ndim\n",
    "\n",
    "arr1 = np.array([1, 2, 3])\n",
    "arr2 = np.array([[1, 2], [3, 4]])\n",
    "\n",
    "print(\"arr1 dimension:\", array_dimension(arr1))  \n",
    "print(\"arr2 dimension:\", array_dimension(arr2)) "
   ]
  },
  {
   "cell_type": "code",
   "execution_count": 16,
   "id": "a1e24103-d9b3-445a-ba3d-f7c3629a5085",
   "metadata": {},
   "outputs": [
    {
     "name": "stdout",
     "output_type": "stream",
     "text": [
      "Item size (bytes): 4\n",
      "Total size (bytes): 16\n"
     ]
    }
   ],
   "source": [
    "# Design a function item_size_info that takes a NumPy array as input and returns the item size and the total\n",
    "# size in bytes\n",
    "\n",
    "def item_size_info(arr):\n",
    "    return arr.itemsize, arr.nbytes\n",
    "\n",
    "arr = np.array([[1, 2], [3, 4]], dtype=np.int32)\n",
    "\n",
    "item_size, total_size = item_size_info(arr)\n",
    "\n",
    "print(\"Item size (bytes):\", item_size)\n",
    "print(\"Total size (bytes):\", total_size)"
   ]
  },
  {
   "cell_type": "code",
   "execution_count": 18,
   "id": "f48bfb02-1889-405b-b91a-aa95ad73e4a7",
   "metadata": {},
   "outputs": [
    {
     "name": "stdout",
     "output_type": "stream",
     "text": [
      "Strides: (12, 4)\n"
     ]
    }
   ],
   "source": [
    " # Create a function array_strides that takes a NumPy array as input and returns the strides of the array\n",
    "\n",
    "def array_strides(arr):\n",
    "    return arr.strides\n",
    "\n",
    "arr = np.array([[1, 2, 3], [4, 5, 6]], dtype=np.int32)\n",
    "\n",
    "strides = array_strides(arr)\n",
    "\n",
    "print(\"Strides:\", strides)"
   ]
  },
  {
   "cell_type": "code",
   "execution_count": 20,
   "id": "23cf3c3f-5708-4762-a5c4-4c70e332d4a7",
   "metadata": {},
   "outputs": [
    {
     "name": "stdout",
     "output_type": "stream",
     "text": [
      "Shape: (2, 3)\n",
      "Strides: (12, 4)\n"
     ]
    }
   ],
   "source": [
    "#  Design a function shape_stride_relationship that takes a NumPy array as input and returns the shape\n",
    "# and strides of the array.\n",
    "\n",
    "def shape_stride_relationship(arr): \n",
    "    return arr.shape, arr.strides\n",
    "\n",
    "arr = np.array([[10, 20, 30], [40, 50, 60]], dtype=np.int32)\n",
    "shape, strides = shape_stride_relationship(arr)\n",
    "\n",
    "print(f\"Shape: {shape}\")\n",
    "print(f\"Strides: {strides}\")"
   ]
  },
  {
   "cell_type": "code",
   "execution_count": 22,
   "id": "5f3fe548-414f-4437-9c0f-927955733f9e",
   "metadata": {},
   "outputs": [
    {
     "name": "stdout",
     "output_type": "stream",
     "text": [
      "Zeros Array: [0. 0. 0. 0. 0. 0.]\n"
     ]
    }
   ],
   "source": [
    "# Create a function `create_zeros_array` that takes an integer `n` as input and returns a NumPy array of\n",
    "# zeros with `n` elements.\n",
    "\n",
    "def create_zeros_array(n):\n",
    "    return np.zeros(n)\n",
    "\n",
    "zeros_array = create_zeros_array(6)\n",
    "print(\"Zeros Array:\", zeros_array)"
   ]
  },
  {
   "cell_type": "code",
   "execution_count": 24,
   "id": "7a339945-e6f3-44a1-a20e-e764550e8afb",
   "metadata": {},
   "outputs": [
    {
     "name": "stdout",
     "output_type": "stream",
     "text": [
      "Ones Matrix:\n",
      " [[1. 1. 1. 1.]\n",
      " [1. 1. 1. 1.]\n",
      " [1. 1. 1. 1.]]\n"
     ]
    }
   ],
   "source": [
    "# Write a function `create_ones_matrix` that takes integers `rows` and `cols` as inputs and generates a 2D\n",
    "# NumPy array filled with ones of size `rows x cols`.\n",
    "\n",
    "def create_ones_matrix(rows, cols):\n",
    "    return np.ones((rows, cols))\n",
    "\n",
    "ones_matrix = create_ones_matrix(3, 4)\n",
    "print(\"Ones Matrix:\\n\", ones_matrix)"
   ]
  },
  {
   "cell_type": "code",
   "execution_count": 26,
   "id": "0817dcfb-624a-4e9d-bcd6-ba04081cbcef",
   "metadata": {},
   "outputs": [
    {
     "name": "stdout",
     "output_type": "stream",
     "text": [
      "Generated Range Array: [0 2 4 6 8]\n"
     ]
    }
   ],
   "source": [
    "# Write a function `generate_range_array` that takes three integers start, stop, and step as arguments and\n",
    "# creates a NumPy array with a range starting from `start`, ending at stop (exclusive), and with the specified\n",
    "# `step`.\n",
    "\n",
    "def generate_range_array(start, stop, step):\n",
    "    return np.arange(start, stop, step)\n",
    "\n",
    "range_array = generate_range_array(0, 10, 2)\n",
    "print(\"Generated Range Array:\", range_array)"
   ]
  },
  {
   "cell_type": "code",
   "execution_count": 28,
   "id": "1e7462c6-8f30-4e0d-8723-f1651cf959be",
   "metadata": {},
   "outputs": [
    {
     "name": "stdout",
     "output_type": "stream",
     "text": [
      "Generated Linear Space Array: [1.         1.44444444 1.88888889 2.33333333 2.77777778 3.22222222\n",
      " 3.66666667 4.11111111 4.55555556 5.        ]\n"
     ]
    }
   ],
   "source": [
    "# Design a function `generate_linear_space` that takes two floats `start`, `stop`, and an integer `num` as\n",
    "# arguments and generates a NumPy array with num equally spaced values between `start` and `stop`\n",
    "# (inclusive).\n",
    "\n",
    "def generate_linear_space(start, stop, num):\n",
    "    return np.linspace(start, stop, num)\n",
    "\n",
    "linear_space_array = generate_linear_space(1.0, 5.0, 10)\n",
    "print(\"Generated Linear Space Array:\", linear_space_array)"
   ]
  },
  {
   "cell_type": "code",
   "execution_count": 30,
   "id": "a42e037d-0ed8-4264-aa54-ba13ae91db86",
   "metadata": {},
   "outputs": [
    {
     "name": "stdout",
     "output_type": "stream",
     "text": [
      "Identity Matrix:\n",
      " [[1. 0. 0. 0.]\n",
      " [0. 1. 0. 0.]\n",
      " [0. 0. 1. 0.]\n",
      " [0. 0. 0. 1.]]\n"
     ]
    }
   ],
   "source": [
    "#  Create a function `create_identity_matrix` that takes an integer `n` as input and generates a square\n",
    "# identity matrix of size `n x n` using `numpy.eye`.\n",
    "\n",
    "def create_identity_matrix(n):\n",
    "    return np.eye(n)\n",
    "\n",
    "identity_matrix = create_identity_matrix(4)\n",
    "print(\"Identity Matrix:\\n\", identity_matrix)"
   ]
  },
  {
   "cell_type": "code",
   "execution_count": 32,
   "id": "a5aab9e5-0e4d-488b-8a8f-91dca45e9ad2",
   "metadata": {},
   "outputs": [
    {
     "name": "stdout",
     "output_type": "stream",
     "text": [
      "NumPy Array: [1 2 3 4 5]\n"
     ]
    }
   ],
   "source": [
    "# Write a function that takes a Python list and converts it into a NumPy array\n",
    "\n",
    "def list_to_numpy_array(py_list):\n",
    "    return np.array(py_list)\n",
    "\n",
    "python_list = [1, 2, 3, 4, 5]\n",
    "numpy_array = list_to_numpy_array(python_list)\n",
    "print(\"NumPy Array:\", numpy_array)"
   ]
  },
  {
   "cell_type": "code",
   "execution_count": 34,
   "id": "9bbb0143-dce7-4a73-a9e6-8e9bfd820e1f",
   "metadata": {},
   "outputs": [
    {
     "name": "stdout",
     "output_type": "stream",
     "text": [
      "Original Array: [99 20 30 40]\n",
      "View Array: [99 20 30 40]\n"
     ]
    }
   ],
   "source": [
    "#  Create a NumPy array and demonstrate the use of `numpy.view` to create a new array object with the\n",
    "# same data\n",
    "\n",
    "original_array = np.array([10, 20, 30, 40], dtype=np.int32)\n",
    "\n",
    "view_array = original_array.view()\n",
    "\n",
    "view_array[0] = 99\n",
    "\n",
    "print(\"Original Array:\", original_array)\n",
    "print(\"View Array:\", view_array)"
   ]
  },
  {
   "cell_type": "code",
   "execution_count": 36,
   "id": "1e8613a4-99f2-4d5f-92d3-fa148951a67a",
   "metadata": {},
   "outputs": [
    {
     "name": "stdout",
     "output_type": "stream",
     "text": [
      "[[1 2]\n",
      " [3 4]\n",
      " [5 6]\n",
      " [7 8]]\n",
      "[[1 2 5 6]\n",
      " [3 4 7 8]]\n"
     ]
    }
   ],
   "source": [
    "# Write a function that takes two NumPy arrays and concatenates them along a specified axis\n",
    "\n",
    "def concatenate_arrays(arr1, arr2, axis=0):\n",
    "    try:\n",
    "        result = np.concatenate((arr1, arr2), axis=axis)\n",
    "        return result\n",
    "    except ValueError as e:\n",
    "        print(f\"Concatenation error: {e}\")\n",
    "        return None\n",
    "\n",
    "a = np.array([[1, 2], [3, 4]])\n",
    "b = np.array([[5, 6], [7, 8]])\n",
    "\n",
    "print(concatenate_arrays(a, b, axis=0))\n",
    "print(concatenate_arrays(a, b, axis=1))"
   ]
  },
  {
   "cell_type": "code",
   "execution_count": 38,
   "id": "911e075d-eb55-43f1-99a2-c718ff67a79f",
   "metadata": {},
   "outputs": [
    {
     "name": "stdout",
     "output_type": "stream",
     "text": [
      "Concatenated Array:\n",
      " [[1 2 5]\n",
      " [3 4 6]]\n"
     ]
    }
   ],
   "source": [
    "# Create two NumPy arrays with different shapes and concatenate them horizontally using `numpy.\n",
    "# concatenate`.\n",
    "\n",
    "arr1 = np.array([[1, 2],[3, 4]])\n",
    "arr2 = np.array([[5],[6]])\n",
    "\n",
    "result = np.concatenate((arr1, arr2), axis=1)\n",
    "\n",
    "print(\"Concatenated Array:\\n\", result)"
   ]
  },
  {
   "cell_type": "code",
   "execution_count": 40,
   "id": "de9140bc-6113-4f53-bb87-e1ea57708dd9",
   "metadata": {},
   "outputs": [
    {
     "name": "stdout",
     "output_type": "stream",
     "text": [
      "[[1 2]\n",
      " [3 4]\n",
      " [5 6]\n",
      " [7 8]]\n"
     ]
    }
   ],
   "source": [
    " # Write a function that vertically stacks multiple NumPy arrays given as a list\n",
    "\n",
    "a = np.array([[1, 2], [3, 4]])\n",
    "b = np.array([[5, 6]])\n",
    "c = np.array([[7, 8]])\n",
    "\n",
    "def vertical_stack(arrays):\n",
    "    return np.vstack(arrays)\n",
    "    \n",
    "result = vertical_stack([a, b, c])\n",
    "print(result)"
   ]
  },
  {
   "cell_type": "code",
   "execution_count": 42,
   "id": "1f607ede-9be4-4ec3-becb-eeb9d8d06b14",
   "metadata": {},
   "outputs": [
    {
     "name": "stdout",
     "output_type": "stream",
     "text": [
      "[1 3 5 7 9]\n"
     ]
    }
   ],
   "source": [
    "# Write a Python function using NumPy to create an array of integers within a specified range (inclusive)\n",
    "# with a given step size.\n",
    "\n",
    "def create_range_array(start, end, step):\n",
    "    return np.arange(start, end + 1, step)\n",
    "    \n",
    "arr = create_range_array(1, 10, 2)\n",
    "print(arr)"
   ]
  },
  {
   "cell_type": "code",
   "execution_count": 44,
   "id": "a55a1130-2599-478f-b0e5-ac211c707995",
   "metadata": {},
   "outputs": [
    {
     "name": "stdout",
     "output_type": "stream",
     "text": [
      "[ 0.          1.11111111  2.22222222  3.33333333  4.44444444  5.55555556\n",
      "  6.66666667  7.77777778  8.88888889 10.        ]\n"
     ]
    }
   ],
   "source": [
    "# Write a Python function using NumPy to generate an array of 10 equally spaced values between 0 and 1\n",
    "# (inclusive).\n",
    "\n",
    "def generate_equal_spaced():\n",
    "    return np.linspace(0, 10, 10)\n",
    "    \n",
    "arr = generate_equal_spaced()\n",
    "print(arr)"
   ]
  },
  {
   "cell_type": "code",
   "execution_count": 46,
   "id": "7b2c9fdf-38fe-4f44-bfba-d9ced7ac79d2",
   "metadata": {},
   "outputs": [
    {
     "name": "stdout",
     "output_type": "stream",
     "text": [
      "[1.00000000e+00 5.62341325e+01 3.16227766e+03 1.77827941e+05\n",
      " 1.00000000e+07]\n"
     ]
    }
   ],
   "source": [
    "# Write a Python function using NumPy to create an array of 5 logarithmically spaced values between 1 and\n",
    "# 1000 (inclusive).\n",
    "\n",
    "def generate_log_spaced():\n",
    "    return np.logspace(0, 7, 5)\n",
    "    \n",
    "arr = generate_log_spaced()\n",
    "print(arr)"
   ]
  },
  {
   "cell_type": "code",
   "execution_count": 48,
   "id": "8daebe56-d4a7-4606-bb4d-8531e0f3fde5",
   "metadata": {},
   "outputs": [
    {
     "name": "stdout",
     "output_type": "stream",
     "text": [
      "   A  B  C  D\n",
      "0  2  8  6  2\n",
      "1  5  8  4  4\n",
      "2  3  9  6  6\n",
      "3  1  9  1  4\n",
      "4  6  7  3  3\n"
     ]
    }
   ],
   "source": [
    "#  Create a Pandas DataFrame using a NumPy array that contains 5 rows and 3 columns, where the values\n",
    "# are random integers between 1 and 100.\n",
    "\n",
    "import pandas as pd\n",
    "\n",
    "def create_random_dataframe():\n",
    "    data = np.random.randint(1, 10, size=(5, 4))  \n",
    "    df = pd.DataFrame(data, columns=['A', 'B', 'C', 'D'])  \n",
    "    return df\n",
    "    \n",
    "df = create_random_dataframe()\n",
    "print(df)"
   ]
  },
  {
   "cell_type": "code",
   "execution_count": 50,
   "id": "0023e118-5257-432e-be16-f76dfb39166c",
   "metadata": {},
   "outputs": [
    {
     "name": "stdout",
     "output_type": "stream",
     "text": [
      "    A  B\n",
      "0  10  1\n",
      "1   0  0\n",
      "2  20  0\n",
      "3   0  4\n",
      "4   7  5\n"
     ]
    }
   ],
   "source": [
    "#  Write a function that takes a Pandas DataFrame and replaces all negative values in a specific column\n",
    "# with zeros. Use NumPy operations within the Pandas DataFrame.\n",
    "\n",
    "def replace_negatives_with_zero(df, *columns):\n",
    "    for column in columns:\n",
    "        df[column] = np.where(df[column] < 0, 0, df[column])\n",
    "    return df\n",
    "data = {'A': [10, -5, 20, -3, 7],'B': [1, -2, -3, 4, 5]}\n",
    "df = pd.DataFrame(data)\n",
    "\n",
    "df = replace_negatives_with_zero(df, 'A','B')\n",
    "print(df)"
   ]
  },
  {
   "cell_type": "code",
   "execution_count": 52,
   "id": "36e96dda-c339-4175-948b-f8eb93f033e3",
   "metadata": {},
   "outputs": [
    {
     "name": "stdout",
     "output_type": "stream",
     "text": [
      "30\n"
     ]
    }
   ],
   "source": [
    "# Access the 3rd element from the given NumPy array.\n",
    "\n",
    "arr = np.array([10, 20, 30, 40, 50])\n",
    "third_element = arr[2]  \n",
    "print(third_element)"
   ]
  },
  {
   "cell_type": "code",
   "execution_count": 54,
   "id": "db28f0f3-bbfc-468e-a233-461f5cf104d8",
   "metadata": {},
   "outputs": [
    {
     "name": "stdout",
     "output_type": "stream",
     "text": [
      "9\n"
     ]
    }
   ],
   "source": [
    " # Retrieve the element at index (1, 2) from the 2D NumPy array.\n",
    "\n",
    "arr_2d = np.array([[1, 2, 3],\n",
    "                   [4, 5, 6],\n",
    "                   [7, 8, 9]])\n",
    "\n",
    "element = arr_2d[2, 2] \n",
    "print(element)"
   ]
  },
  {
   "cell_type": "code",
   "execution_count": 56,
   "id": "b4112eb2-56cd-4d2e-aebf-376c98f3bcb8",
   "metadata": {},
   "outputs": [
    {
     "name": "stdout",
     "output_type": "stream",
     "text": [
      "[ 8 10  7]\n"
     ]
    }
   ],
   "source": [
    "# Using boolean indexing, extract elements greater than 5 from the given NumPy array.\n",
    "\n",
    "arr = np.array([3, 8, 2, 10, 5, 7])\n",
    "result = arr[arr > 5]\n",
    "\n",
    "print(result)"
   ]
  },
  {
   "cell_type": "code",
   "execution_count": 58,
   "id": "5e2297dd-6c3b-49ed-8bbd-77366ad05d13",
   "metadata": {},
   "outputs": [
    {
     "name": "stdout",
     "output_type": "stream",
     "text": [
      "[3 4 5 6]\n"
     ]
    }
   ],
   "source": [
    "# Perform basic slicing to extract elements from index 2 to 5 (inclusive) from the given NumPy array.\n",
    "\n",
    "arr = np.array([1, 2, 3, 4, 5, 6, 7, 8, 9])\n",
    "sliced = arr[2:6]\n",
    "\n",
    "print(sliced)"
   ]
  },
  {
   "cell_type": "code",
   "execution_count": 60,
   "id": "f7ca8a67-9624-4263-af30-072f97405373",
   "metadata": {},
   "outputs": [
    {
     "name": "stdout",
     "output_type": "stream",
     "text": [
      "[[2 3]\n",
      " [5 6]]\n"
     ]
    }
   ],
   "source": [
    "# Slice the 2D NumPy array to extract the sub-array `[[2, 3], [5, 6]]` from the given array.\n",
    "\n",
    "arr_2d = np.array([[1, 2, 3],[4, 5, 6],[7, 8, 9]])\n",
    "\n",
    "sub_array = arr_2d[0:2, 1:3]\n",
    "\n",
    "print(sub_array)"
   ]
  },
  {
   "cell_type": "code",
   "execution_count": 62,
   "id": "d65818a0-ac4c-4e87-8be4-5219462e7756",
   "metadata": {},
   "outputs": [
    {
     "name": "stdout",
     "output_type": "stream",
     "text": [
      "[30 80 40]\n"
     ]
    }
   ],
   "source": [
    "# Write a NumPy function to extract elements in specific order from a given 2D array based on indices\n",
    "# provided in another array.\n",
    "\n",
    "def extract_elements_by_indices(arr_2d, index_array):\n",
    "    rows = index_array[:, 0]\n",
    "    cols = index_array[:, 1]\n",
    "    return arr_2d[rows, cols]\n",
    "arr_2d = np.array([[10, 20, 30],\n",
    "                   [40, 50, 60],\n",
    "                   [70, 80, 90]])\n",
    "\n",
    "indices = np.array([[0, 2],  \n",
    "                    [2, 1],  \n",
    "                    [1, 0]]) \n",
    "\n",
    "result = extract_elements_by_indices(arr_2d, indices)\n",
    "print(result)"
   ]
  },
  {
   "cell_type": "code",
   "execution_count": 64,
   "id": "76ea8d74-f1e6-458b-926c-f6f153c0ec94",
   "metadata": {},
   "outputs": [
    {
     "name": "stdout",
     "output_type": "stream",
     "text": [
      "[12  7 18]\n"
     ]
    }
   ],
   "source": [
    "#  Create a NumPy function that filters elements greater than a threshold from a given 1D array using\n",
    "# boolean indexing.\n",
    "\n",
    "def filter_greater_than(arr, threshold):\n",
    "    return arr[arr > threshold]\n",
    "arr = np.array([5, 12, 7, 3, 18, 1])\n",
    "result = filter_greater_than(arr, 6)\n",
    "print(result)"
   ]
  },
  {
   "cell_type": "code",
   "execution_count": 66,
   "id": "faacd846-7548-462a-80f1-7325b8ee6703",
   "metadata": {},
   "outputs": [
    {
     "name": "stdout",
     "output_type": "stream",
     "text": [
      "[ 5 19 15]\n"
     ]
    }
   ],
   "source": [
    "# Develop a NumPy function that extracts specific elements from a 3D array using indices provided in three\n",
    "# separate arrays for each dimension.\n",
    "\n",
    "def extract_elements_3d(arr_3d, x_indices, y_indices, z_indices):\n",
    "    return arr_3d[x_indices, y_indices, z_indices]\n",
    "arr_3d = np.arange(27).reshape(3, 3, 3)\n",
    "\n",
    "x_idx = np.array([0, 2, 1])\n",
    "y_idx = np.array([1, 0, 2])\n",
    "z_idx = np.array([2, 1, 0])\n",
    "\n",
    "result = extract_elements_3d(arr_3d, x_idx, y_idx, z_idx)\n",
    "print(result)"
   ]
  },
  {
   "cell_type": "code",
   "execution_count": 68,
   "id": "3db5c2ed-c15e-4098-9d67-f5c830736ee5",
   "metadata": {},
   "outputs": [
    {
     "name": "stdout",
     "output_type": "stream",
     "text": [
      "[ 8 12 10]\n"
     ]
    }
   ],
   "source": [
    "#  Write a NumPy function that returns elements from an array where both two conditions are satisfied\n",
    "# using boolean indexing.\n",
    "\n",
    "def filter_with_two_conditions(arr, condition1, condition2):\n",
    "    return arr[condition1(arr) & condition2(arr)]\n",
    "arr = np.array([1, 5, 8, 12, 3, 7, 10])\n",
    "result = filter_with_two_conditions(arr,lambda x: x > 5,lambda x: x % 2 == 0)\n",
    "print(result)"
   ]
  },
  {
   "cell_type": "code",
   "execution_count": 70,
   "id": "d15d1b13-8ec1-47d6-99ad-d8ea6b386387",
   "metadata": {},
   "outputs": [
    {
     "name": "stdout",
     "output_type": "stream",
     "text": [
      "[30 40 80]\n"
     ]
    }
   ],
   "source": [
    "# Create a NumPy function that extracts elements from a 2D array using row and column indices provided\n",
    "# in separate arrays.\n",
    "\n",
    "def extract_by_row_col_indices(arr_2d, row_indices, col_indices):\n",
    "    return arr_2d[row_indices, col_indices]\n",
    "arr_2d = np.array([[10, 20, 30],\n",
    "                   [40, 50, 60],\n",
    "                   [70, 80, 90]])\n",
    "\n",
    "row_indices = np.array([0, 1, 2])\n",
    "col_indices = np.array([2, 0, 1])\n",
    "\n",
    "result = extract_by_row_col_indices(arr_2d, row_indices, col_indices)\n",
    "print(result)"
   ]
  },
  {
   "cell_type": "code",
   "execution_count": 72,
   "id": "e8fa9055-f58e-4532-9217-5c1a45406249",
   "metadata": {},
   "outputs": [
    {
     "name": "stdout",
     "output_type": "stream",
     "text": [
      "[[ 6  7  8]\n",
      " [ 9 10 11]\n",
      " [12 13 14]]\n"
     ]
    }
   ],
   "source": [
    "# Given an array arr of shape (3, 3), add a scalar value of 5 to each element using NumPy broadcasting.\n",
    "\n",
    "arr = np.array([[1, 2, 3],\n",
    "                [4, 5, 6],\n",
    "                [7, 8, 9]])\n",
    "\n",
    "result = arr + 5\n",
    "\n",
    "print(result)"
   ]
  },
  {
   "cell_type": "code",
   "execution_count": 74,
   "id": "ba894970-ab8a-4dd9-9708-a7e25636df43",
   "metadata": {},
   "outputs": [
    {
     "name": "stdout",
     "output_type": "stream",
     "text": [
      "[[ 2  4  6  8]\n",
      " [15 18 21 24]\n",
      " [36 40 44 48]]\n"
     ]
    }
   ],
   "source": [
    "# Consider two arrays arr1 of shape (1, 3) and arr2 of shape (3, 4). Multiply each row of arr2 by the\n",
    "# corresponding element in arr1 using NumPy broadcasting.\n",
    "\n",
    "arr1 = np.array([[2, 3, 4]])  \n",
    "arr2 = np.array([[1, 2, 3, 4],\n",
    "                 [5, 6, 7, 8],\n",
    "                 [9, 10, 11, 12]]) \n",
    "\n",
    "result = arr2 * arr1.T  \n",
    "print(result)"
   ]
  },
  {
   "cell_type": "code",
   "execution_count": 76,
   "id": "70901fff-0dfc-43b8-bcc2-9b68d812d4e7",
   "metadata": {},
   "outputs": [
    {
     "name": "stdout",
     "output_type": "stream",
     "text": [
      "[[ 11  21  31]\n",
      " [ 42  52  62]\n",
      " [ 73  83  93]\n",
      " [104 114 124]]\n"
     ]
    }
   ],
   "source": [
    "#  Given a 1D array arr1 of shape (1, 4) and a 2D array arr2 of shape (4, 3), add arr1 to each row of arr2 using\n",
    "# NumPy broadcasting.\n",
    "\n",
    "arr1 = np.array([[1, 2, 3, 4]])  \n",
    "arr2 = np.array([[10, 20, 30],\n",
    "                 [40, 50, 60],\n",
    "                 [70, 80, 90],\n",
    "                 [100, 110, 120]])\n",
    "result = arr2 + arr1.T  \n",
    "\n",
    "print(result)"
   ]
  },
  {
   "cell_type": "code",
   "execution_count": 78,
   "id": "db006b74-6b9f-4771-9d0e-efca1ed7549d",
   "metadata": {},
   "outputs": [
    {
     "name": "stdout",
     "output_type": "stream",
     "text": [
      "[[11 21 31]\n",
      " [12 22 32]\n",
      " [13 23 33]]\n"
     ]
    }
   ],
   "source": [
    "#  Consider two arrays arr1 of shape (3, 1) and arr2 of shape (1, 3). Add these arrays using NumPy\n",
    "# broadcasting.\n",
    "\n",
    "arr1 = np.array([[1], \n",
    "                 [2], \n",
    "                 [3]]) \n",
    "\n",
    "arr2 = np.array([[10, 20, 30]]) \n",
    "result = arr1 + arr2\n",
    "\n",
    "print(result)"
   ]
  },
  {
   "cell_type": "code",
   "execution_count": 80,
   "id": "69d1d879-caee-439e-9b30-c3d15653a1d3",
   "metadata": {},
   "outputs": [
    {
     "name": "stdout",
     "output_type": "stream",
     "text": [
      "[[[ 10  20  30]\n",
      "  [ 20  40  60]]\n",
      "\n",
      " [[120 150 180]\n",
      "  [160 200 240]]]\n"
     ]
    }
   ],
   "source": [
    "# Given arrays arr1 of shape (2, 3) and arr2 of shape (2, 2), perform multiplication using NumPy\n",
    "# broadcasting. Handle the shape incompatibility.\n",
    "\n",
    "arr1 = np.array([[1, 2, 3],\n",
    "                 [4, 5, 6]])  \n",
    "\n",
    "arr2 = np.array([[10, 20],\n",
    "                 [30, 40]])   \n",
    "arr1_reshaped = arr1[:, np.newaxis, :]   \n",
    "arr2_reshaped = arr2[:, :, np.newaxis]   \n",
    "result = arr1_reshaped * arr2_reshaped  \n",
    "\n",
    "print(result)"
   ]
  },
  {
   "cell_type": "code",
   "execution_count": 82,
   "id": "7cefb0d7-8c9e-4c55-929f-8bc70fd89200",
   "metadata": {},
   "outputs": [
    {
     "name": "stdout",
     "output_type": "stream",
     "text": [
      "[2.5 3.5 4.5]\n"
     ]
    }
   ],
   "source": [
    "# Calculate column wise mean for the given array:\n",
    "\n",
    "arr = np.array([[1, 2, 3],\n",
    "                [4, 5, 6]])\n",
    "\n",
    "col_mean = np.mean(arr, axis=0)\n",
    "\n",
    "print(col_mean)"
   ]
  },
  {
   "cell_type": "code",
   "execution_count": 84,
   "id": "106b0e19-6f0b-4135-8c2f-c5bf4fa3fe3e",
   "metadata": {},
   "outputs": [
    {
     "name": "stdout",
     "output_type": "stream",
     "text": [
      "[3 6]\n"
     ]
    }
   ],
   "source": [
    " # Find maximum value in each row of the given array:\n",
    "\n",
    "arr = np.array([[1, 2, 3], \n",
    "                [4, 5, 6]])\n",
    "\n",
    "row_max = np.max(arr, axis=1)\n",
    "\n",
    "print(row_max)"
   ]
  },
  {
   "cell_type": "code",
   "execution_count": 86,
   "id": "c5e4124b-4c40-4c59-bab6-4dc27a7ff17e",
   "metadata": {},
   "outputs": [
    {
     "name": "stdout",
     "output_type": "stream",
     "text": [
      "[1 1 0]\n"
     ]
    }
   ],
   "source": [
    " # For the given array, find indices of maximum value in each column.\n",
    "\n",
    "arr = np.array([[1, 2, 8],\n",
    "                [4, 5, 6]])\n",
    "\n",
    "col_max_indices = np.argmax(arr, axis=0)\n",
    "\n",
    "print(col_max_indices)"
   ]
  },
  {
   "cell_type": "code",
   "execution_count": 88,
   "id": "9000bd76-ebbe-491c-9f85-250bfb465964",
   "metadata": {},
   "outputs": [
    {
     "name": "stdout",
     "output_type": "stream",
     "text": [
      "[[ 3  5]\n",
      " [ 9 11]]\n"
     ]
    }
   ],
   "source": [
    "# For the given array, apply custom function to calculate moving sum along rows.\n",
    "\n",
    "def moving_sum_rowwise(arr, window_size=2):\n",
    "    result = []\n",
    "    for row in arr:\n",
    "        row_sum = [np.sum(row[i:i+window_size]) for i in range(len(row) - window_size + 1)]\n",
    "        result.append(row_sum)\n",
    "    return np.array(result)\n",
    "\n",
    "arr = np.array([[1, 2, 3],\n",
    "                [4, 5, 6]])\n",
    "\n",
    "output = moving_sum_rowwise(arr, window_size=2)\n",
    "print(output)"
   ]
  },
  {
   "cell_type": "code",
   "execution_count": 90,
   "id": "be8f514e-71a9-4fa8-a5e7-5ca1c5f47b7a",
   "metadata": {},
   "outputs": [
    {
     "name": "stdout",
     "output_type": "stream",
     "text": [
      "[False False False]\n"
     ]
    }
   ],
   "source": [
    "# In the given array, check if all elements in each column are even.\n",
    "\n",
    "arr = np.array([[2, 4, 6],\n",
    "                [3, 5, 7]])\n",
    "all_even_cols = np.all(arr % 2 == 0, axis=0)\n",
    "\n",
    "print(all_even_cols)"
   ]
  },
  {
   "cell_type": "code",
   "execution_count": 92,
   "id": "68f84f6f-684a-493c-8dab-35e1a882c58d",
   "metadata": {},
   "outputs": [
    {
     "name": "stdout",
     "output_type": "stream",
     "text": [
      "[[1 2 3]\n",
      " [4 5 6]]\n"
     ]
    }
   ],
   "source": [
    "#  Given a NumPy array arr, reshape it into a matrix of dimensions `m` rows and `n` columns. Return the\n",
    "# reshaped matrix.\n",
    "\n",
    "def reshape_array(arr, m, n):\n",
    "    if arr.size != m * n:\n",
    "        raise ValueError(\"incompatible dimensions.\")\n",
    "    return arr.reshape(m, n)\n",
    "\n",
    "original_array = np.array([1, 2, 3, 4, 5, 6])\n",
    "reshaped_matrix = reshape_array(original_array, 2, 3)\n",
    "print(reshaped_matrix)"
   ]
  },
  {
   "cell_type": "code",
   "execution_count": 94,
   "id": "76c1cb91-1155-461f-bf55-8b42afbd2c13",
   "metadata": {},
   "outputs": [
    {
     "name": "stdout",
     "output_type": "stream",
     "text": [
      "[1 2 3 4 5 6]\n"
     ]
    }
   ],
   "source": [
    "# Create a function that takes a matrix as input and returns the flattened array.\n",
    "\n",
    "def flatten_matrix(matrix):\n",
    "    return matrix.flatten()\n",
    "\n",
    "input_matrix = np.array([[1, 2, 3], [4, 5, 6]])\n",
    "flattened_array = flatten_matrix(input_matrix)\n",
    "print(flattened_array)"
   ]
  },
  {
   "cell_type": "code",
   "execution_count": 96,
   "id": "77376d33-9e70-4083-a7c1-048f82cf3104",
   "metadata": {},
   "outputs": [
    {
     "name": "stdout",
     "output_type": "stream",
     "text": [
      "Concatenated along axis 0:\n",
      " [[1 2]\n",
      " [3 4]\n",
      " [5 6]\n",
      " [7 8]]\n",
      "\n",
      "Concatenated along axis 1:\n",
      " [[1 2 5 6]\n",
      " [3 4 7 8]]\n"
     ]
    }
   ],
   "source": [
    "# Write a function that concatenates two given arrays along a specified axis\n",
    "\n",
    "def concatenate_arrays(arr1, arr2, axis=0):\n",
    "    try:\n",
    "        return np.concatenate((arr1, arr2), axis=axis)\n",
    "    except ValueError as e:\n",
    "        return f\"Error: {e}\"\n",
    "\n",
    "array1 = np.array([[1, 2], [3, 4]])\n",
    "array2 = np.array([[5, 6], [7, 8]])\n",
    "\n",
    "result_axis0 = concatenate_arrays(array1, array2, axis=0)\n",
    "result_axis1 = concatenate_arrays(array1, array2, axis=1)\n",
    "\n",
    "print(\"Concatenated along axis 0:\\n\", result_axis0)\n",
    "print(\"\\nConcatenated along axis 1:\\n\", result_axis1)"
   ]
  },
  {
   "cell_type": "code",
   "execution_count": 98,
   "id": "003bd0d0-1d2b-44f0-b539-95bba3ba94bd",
   "metadata": {},
   "outputs": [
    {
     "name": "stdout",
     "output_type": "stream",
     "text": [
      "Split along axis 0 (rows):\n",
      "[[1 2 3]]\n",
      "[[4 5 6]]\n",
      "[[7 8 9]]\n",
      "\n",
      "Split along axis 1 (columns):\n",
      "[[1]\n",
      " [4]\n",
      " [7]]\n",
      "[[2]\n",
      " [5]\n",
      " [8]]\n",
      "[[3]\n",
      " [6]\n",
      " [9]]\n"
     ]
    }
   ],
   "source": [
    "# Create a function that splits an array into multiple sub-arrays along a specified axis.\n",
    "\n",
    "def split_array(array, indices_or_sections, axis=0):\n",
    "    try:\n",
    "        return np.split(array, indices_or_sections, axis=axis)\n",
    "    except ValueError as e:\n",
    "        return f\"Error: {e}\"\n",
    "\n",
    "original_array = np.array([[1, 2, 3],\n",
    "                           [4, 5, 6],\n",
    "                           [7, 8, 9]])\n",
    "\n",
    "split_result_axis0 = split_array(original_array, 3, axis=0)\n",
    "split_result_axis1 = split_array(original_array, 3, axis=1)\n",
    "\n",
    "print(\"Split along axis 0 (rows):\")\n",
    "for sub_array in split_result_axis0:\n",
    "    print(sub_array)\n",
    "\n",
    "print(\"\\nSplit along axis 1 (columns):\")\n",
    "for sub_array in split_result_axis1:\n",
    "    print(sub_array)"
   ]
  },
  {
   "cell_type": "code",
   "execution_count": 100,
   "id": "e73103c0-5ca7-4262-91cd-aaf6b552c7ea",
   "metadata": {},
   "outputs": [
    {
     "name": "stdout",
     "output_type": "stream",
     "text": [
      "Final array: [ 1 10  4 11  5]\n"
     ]
    }
   ],
   "source": [
    " # Write a function that inserts and then deletes elements from a given array at specified indices.\n",
    "\n",
    "def insert_and_delete(array, insert_indices, insert_values, delete_indices):\n",
    "    array_after_insert = np.insert(array, insert_indices, insert_values)\n",
    "    array_after_delete = np.delete(array_after_insert, delete_indices)\n",
    "    return array_after_delete\n",
    "\n",
    "original_array = np.array([1, 2, 3, 4, 5])\n",
    "indices_to_insert = [2, 4]\n",
    "values_to_insert = [10, 11]\n",
    "indices_to_delete = [1, 3]\n",
    "\n",
    "result = insert_and_delete(original_array, indices_to_insert, values_to_insert, indices_to_delete)\n",
    "print(\"Final array:\", result)"
   ]
  },
  {
   "cell_type": "code",
   "execution_count": 102,
   "id": "91c08951-42cf-45fd-9858-46f52eba8e8d",
   "metadata": {},
   "outputs": [
    {
     "name": "stdout",
     "output_type": "stream",
     "text": [
      "arr1: [90 80 41 89 32 75 82 84 12 31]\n",
      "arr2: [ 1  2  3  4  5  6  7  8  9 10]\n",
      "Element-wise addition result: [91 82 44 93 37 81 89 92 21 41]\n"
     ]
    }
   ],
   "source": [
    "#  Create a NumPy array `arr1` with random integers and another array `arr2` with integers from 1 to 10.\n",
    "# Perform element-wise addition between `arr1` and `arr2`.\n",
    "\n",
    "arr1 = np.random.randint(0, 101, size=10)\n",
    "arr2 = np.arange(1, 11)\n",
    "result = arr1 + arr2\n",
    "\n",
    "print(\"arr1:\", arr1)\n",
    "print(\"arr2:\", arr2)\n",
    "print(\"Element-wise addition result:\", result)"
   ]
  },
  {
   "cell_type": "code",
   "execution_count": 104,
   "id": "58188f14-3834-4777-92dc-b349400d653e",
   "metadata": {},
   "outputs": [
    {
     "name": "stdout",
     "output_type": "stream",
     "text": [
      "arr1: [10  9  8  7  6  5  4  3  2  1]\n",
      "arr2: [ 1  2  3  4  5  6  7  8  9 10]\n",
      "Element-wise subtraction result: [ 9  7  5  3  1 -1 -3 -5 -7 -9]\n"
     ]
    }
   ],
   "source": [
    "# Generate a NumPy array `arr1` with sequential integers from 10 to 1 and another array `arr2` with integers\n",
    "# from 1 to 10. Subtract `arr2` from `arr1` element-wise.\n",
    "\n",
    "arr1 = np.arange(10, 0, -1)\n",
    "arr2 = np.arange(1, 11)\n",
    "\n",
    "result = arr1 - arr2\n",
    "\n",
    "print(\"arr1:\", arr1)\n",
    "print(\"arr2:\", arr2)\n",
    "print(\"Element-wise subtraction result:\", result)"
   ]
  },
  {
   "cell_type": "code",
   "execution_count": 106,
   "id": "19102b18-882f-47e7-9fab-baa8b0f229c3",
   "metadata": {},
   "outputs": [
    {
     "name": "stdout",
     "output_type": "stream",
     "text": [
      "arr1: [2 4 6 3 4]\n",
      "arr2: [1 2 3 4 5]\n",
      "Element-wise multiplication result: [ 2  8 18 12 20]\n"
     ]
    }
   ],
   "source": [
    "#  Create a NumPy array `arr1` with random integers and another array `arr2` with integers from 1 to 5.\n",
    "# Perform element-wise multiplication between `arr1` and `arr2`\n",
    "\n",
    "arr1 = np.random.randint(0, 11, size=5)\n",
    "\n",
    "arr2 = np.arange(1, 6)\n",
    "\n",
    "result = arr1 * arr2\n",
    "\n",
    "print(\"arr1:\", arr1)\n",
    "print(\"arr2:\", arr2)\n",
    "print(\"Element-wise multiplication result:\", result)"
   ]
  },
  {
   "cell_type": "code",
   "execution_count": 108,
   "id": "4ef346ae-5087-4d20-9c68-f52c16a3aa28",
   "metadata": {},
   "outputs": [
    {
     "name": "stdout",
     "output_type": "stream",
     "text": [
      "arr1: [ 2  4  6  8 10]\n",
      "arr2: [1 2 3 4 5]\n",
      "Element-wise division result: [2. 2. 2. 2. 2.]\n"
     ]
    }
   ],
   "source": [
    "#  Generate a NumPy array `arr1` with even integers from 2 to 10 and another array `arr2` with integers from 1\n",
    "# to 5. Perform element-wise division of `arr1` by `arr2`.\n",
    "\n",
    "arr1 = np.arange(2, 11, 2)\n",
    "arr2 = np.arange(1, 6)\n",
    "\n",
    "result = arr1 / arr2\n",
    "\n",
    "print(\"arr1:\", arr1)\n",
    "print(\"arr2:\", arr2)\n",
    "print(\"Element-wise division result:\", result)"
   ]
  },
  {
   "cell_type": "code",
   "execution_count": 110,
   "id": "ee6a3e77-b000-498b-b4a0-ccc3f848f20c",
   "metadata": {},
   "outputs": [
    {
     "name": "stdout",
     "output_type": "stream",
     "text": [
      "arr1: [1 2 3 4 5]\n",
      "arr2: [5 4 3 2 1]\n",
      "Exponentiation result (arr1 ** arr2): [ 1 16 27 16  5]\n"
     ]
    }
   ],
   "source": [
    "# Create a NumPy array `arr1` with integers from 1 to 5 and another array `arr2` with the same numbers\n",
    "# reversed. Calculate the exponentiation of `arr1` raised to the power of `arr2` element-wise.\n",
    "\n",
    "arr1 = np.arange(1, 6)\n",
    "arr2 = arr1[::-1]\n",
    "\n",
    "result = arr1 ** arr2  \n",
    "\n",
    "print(\"arr1:\", arr1)\n",
    "print(\"arr2:\", arr2)\n",
    "print(\"Exponentiation result (arr1 ** arr2):\", result)"
   ]
  },
  {
   "cell_type": "code",
   "execution_count": 112,
   "id": "964237b7-726b-4502-8679-178a8acdaf7a",
   "metadata": {},
   "outputs": [
    {
     "name": "stdout",
     "output_type": "stream",
     "text": [
      "Occurrences of 'hello': 3\n"
     ]
    }
   ],
   "source": [
    "# Write a function that counts the occurrences of a specific substring within a NumPy array of strings.\n",
    "\n",
    "def count_substring_occurrences(arr, substring):\n",
    "    return np.char.count(arr, substring).sum()\n",
    "\n",
    "arr = np.array(['hello', 'world', 'hello', 'numpy', 'hello'])\n",
    "substring = 'hello'\n",
    "\n",
    "count = count_substring_occurrences(arr, substring)\n",
    "print(f\"Occurrences of '{substring}':\", count)"
   ]
  },
  {
   "cell_type": "code",
   "execution_count": 114,
   "id": "1b5dcd92-495a-4e5b-9d9f-749ca4b9d10a",
   "metadata": {},
   "outputs": [
    {
     "name": "stdout",
     "output_type": "stream",
     "text": [
      "Uppercase characters: ['H' 'W' 'OAI' 'GPT']\n"
     ]
    }
   ],
   "source": [
    " # Write a function that extracts uppercase characters from a NumPy array of strings.\n",
    "\n",
    "def extract_uppercase_chars(arr):\n",
    "    return np.array([''.join([char for char in s if char.isupper()]) for s in arr])\n",
    "\n",
    "arr = np.array(['Hello', 'World', 'OpenAI', 'GPT'])\n",
    "uppercase_chars = extract_uppercase_chars(arr)\n",
    "\n",
    "print(\"Uppercase characters:\", uppercase_chars)"
   ]
  },
  {
   "cell_type": "code",
   "execution_count": 116,
   "id": "0672b200-49b0-4aed-a5f4-771d7dd9fdca",
   "metadata": {},
   "outputs": [
    {
     "name": "stdout",
     "output_type": "stream",
     "text": [
      "Modified array: ['orange' 'banana' 'grape' 'pineorange']\n"
     ]
    }
   ],
   "source": [
    "# Write a function that replaces occurrences of a substring in a NumPy array of strings with a new string\n",
    "\n",
    "def replace_substring(arr, old_substring, new_substring):\n",
    "    return np.char.replace(arr, old_substring, new_substring)\n",
    "\n",
    "arr = np.array(['apple', 'banana', 'grape', 'pineapple'])\n",
    "result = replace_substring(arr, 'apple', 'orange')\n",
    "\n",
    "print(\"Modified array:\", result)"
   ]
  },
  {
   "cell_type": "code",
   "execution_count": 118,
   "id": "05f88ec8-cd64-4612-864e-70ebe922b71d",
   "metadata": {},
   "outputs": [
    {
     "name": "stdout",
     "output_type": "stream",
     "text": [
      "Concatenated array: ['HelloOpen' 'WorldAI']\n"
     ]
    }
   ],
   "source": [
    "# Write a function that concatenates strings in a NumPy array element-wise.\n",
    "\n",
    "def concatenate_strings(arr1, arr2):\n",
    "    return np.char.add(arr1, arr2)\n",
    "\n",
    "arr1 = np.array(['Hello', 'World'])\n",
    "arr2 = np.array(['Open', 'AI'])\n",
    "\n",
    "result = concatenate_strings(arr1, arr2)\n",
    "print(\"Concatenated array:\", result)"
   ]
  },
  {
   "cell_type": "code",
   "execution_count": 120,
   "id": "71bbcdc0-6da0-4f40-b49a-01bd9ec868b9",
   "metadata": {},
   "outputs": [
    {
     "name": "stdout",
     "output_type": "stream",
     "text": [
      "Length of the longest string: 9\n"
     ]
    }
   ],
   "source": [
    " # Write a function that finds the length of the longest string in a NumPy array.\n",
    "\n",
    "def longest_string_length(arr):\n",
    "    return np.vectorize(len)(arr).max()\n",
    "\n",
    "arr = np.array(['apple', 'banana', 'grape', 'pineapple'])\n",
    "max_length = longest_string_length(arr)\n",
    "\n",
    "print(\"Length of the longest string:\", max_length)"
   ]
  },
  {
   "cell_type": "code",
   "execution_count": 122,
   "id": "68e007ab-a113-44ef-9e0e-a933c8ee0578",
   "metadata": {},
   "outputs": [
    {
     "name": "stdout",
     "output_type": "stream",
     "text": [
      "Mean: 490.59\n",
      "Median: 483.0\n",
      "Variance: 81875.0619\n",
      "Standard Deviation:286.14\n"
     ]
    }
   ],
   "source": [
    "# Create a dataset of 100 random integers between 1 and 1000. Compute the mean, median, variance, and\n",
    "# standard deviation of the dataset using NumPy's functions.\n",
    "\n",
    "data = np.random.randint(1, 1001, size=100)\n",
    "\n",
    "mean = np.mean(data)\n",
    "median = np.median(data)\n",
    "variance = np.var(data)\n",
    "std_dev = np.std(data)\n",
    "\n",
    "print(\"Mean:\", mean)\n",
    "print(\"Median:\", median)\n",
    "print(\"Variance:\", variance)\n",
    "print(f\"Standard Deviation:{std_dev:.2f}\")"
   ]
  },
  {
   "cell_type": "code",
   "execution_count": 124,
   "id": "0f07f796-2baf-4f3f-a713-9e40cbe68e3a",
   "metadata": {},
   "outputs": [
    {
     "name": "stdout",
     "output_type": "stream",
     "text": [
      "25th Percentile: 43.25\n",
      "75th Percentile: 82.00\n"
     ]
    }
   ],
   "source": [
    "# Generate an array of 50 random numbers between 1 and 100. Find the 25th and 75th percentiles of the\n",
    "# dataset.\n",
    "\n",
    "data = np.random.randint(1, 101, size=50)\n",
    "\n",
    "percentile_25 = np.percentile(data, 25)\n",
    "percentile_75 = np.percentile(data, 75)\n",
    "\n",
    "print(f\"25th Percentile: {percentile_25:.2f}\")\n",
    "print(f\"75th Percentile: {percentile_75:.2f}\")"
   ]
  },
  {
   "cell_type": "code",
   "execution_count": 126,
   "id": "06df9ac9-7436-4b25-8d5f-264351a646b9",
   "metadata": {},
   "outputs": [
    {
     "name": "stdout",
     "output_type": "stream",
     "text": [
      "Correlation Coefficient Matrix: [[ 1.        -0.0179539]\n",
      " [-0.0179539  1.       ]]\n",
      "Correlation Coefficient between x and y: -0.0180\n"
     ]
    }
   ],
   "source": [
    "# Create two arrays representing two sets of variables. Compute the correlation coefficient between these\n",
    "# arrays using NumPy's `corrcoef` function.\n",
    "\n",
    "x = np.random.randint(1, 101, size=100)\n",
    "y = np.random.randint(1, 101, size=100)\n",
    "\n",
    "correlation_matrix = np.corrcoef(x, y)\n",
    "\n",
    "correlation_coefficient = correlation_matrix[0, 1]\n",
    "\n",
    "print(\"Correlation Coefficient Matrix:\", correlation_matrix)\n",
    "print(f\"Correlation Coefficient between x and y: {correlation_coefficient:.4f}\")"
   ]
  },
  {
   "cell_type": "code",
   "execution_count": 128,
   "id": "4adce08c-7788-467f-ac25-81ad99bd1365",
   "metadata": {},
   "outputs": [
    {
     "name": "stdout",
     "output_type": "stream",
     "text": [
      "Matrix Multiplication (A dot B): [[19 22]\n",
      " [43 50]]\n"
     ]
    }
   ],
   "source": [
    " # Create two matrices and perform matrix multiplication using NumPy's `dot` function.\n",
    "\n",
    "A = np.array([[1, 2],\n",
    "              [3, 4]])\n",
    "\n",
    "B = np.array([[5, 6],\n",
    "              [7, 8]])\n",
    "\n",
    "result = np.dot(A, B)\n",
    "\n",
    "print(\"Matrix Multiplication (A dot B):\", result)"
   ]
  },
  {
   "cell_type": "code",
   "execution_count": 130,
   "id": "82c6f952-3b33-4e2a-9435-77b36cbcaa95",
   "metadata": {},
   "outputs": [
    {
     "name": "stdout",
     "output_type": "stream",
     "text": [
      "10th Percentile: 60.00\n",
      "50th Percentile (Median): 451.00\n",
      "90th Percentile: 863.80\n",
      "1st Quartile (Q1): 208.50\n",
      "3rd Quartile (Q3): 735.50\n"
     ]
    }
   ],
   "source": [
    "#  Create an array of 50 integers between 10 and 1000. Calculate the 10th, 50th (median), and 90th\n",
    "# percentiles along with the first and third quartiles.\n",
    "\n",
    "data = np.random.randint(10, 1001, size=50)\n",
    "\n",
    "percentile_10 = np.percentile(data, 10)\n",
    "percentile_50 = np.percentile(data, 50)  \n",
    "percentile_90 = np.percentile(data, 90)\n",
    "\n",
    "q1 = np.percentile(data, 25) \n",
    "q3 = np.percentile(data, 75)  \n",
    "\n",
    "print(f\"10th Percentile: {percentile_10:.2f}\")\n",
    "print(f\"50th Percentile (Median): {percentile_50:.2f}\")\n",
    "print(f\"90th Percentile: {percentile_90:.2f}\")\n",
    "print(f\"1st Quartile (Q1): {q1:.2f}\")\n",
    "print(f\"3rd Quartile (Q3): {q3:.2f}\")"
   ]
  },
  {
   "cell_type": "code",
   "execution_count": 132,
   "id": "558cd143-c4d7-48ca-a632-d5be913e3bda",
   "metadata": {},
   "outputs": [
    {
     "name": "stdout",
     "output_type": "stream",
     "text": [
      "Element 30 found at index: 2\n"
     ]
    }
   ],
   "source": [
    "# Create a NumPy array of integers and find the index of a specific element.\n",
    "\n",
    "arr = np.array([10, 20, 30, 40, 50])\n",
    "\n",
    "element = 30\n",
    "\n",
    "index = np.where(arr == element)[0]\n",
    "\n",
    "if index.size > 0:\n",
    "    print(f\"Element {element} found at index: {index[0]}\")\n",
    "else:\n",
    "    print(f\"Element {element} not found in the array.\")"
   ]
  },
  {
   "cell_type": "code",
   "execution_count": 134,
   "id": "98f62f00-be25-48b1-87e6-277d238fedf8",
   "metadata": {},
   "outputs": [
    {
     "name": "stdout",
     "output_type": "stream",
     "text": [
      "Sorted array (ascending): [ 9 25 30 64 67 68 68 80 85 96]\n"
     ]
    }
   ],
   "source": [
    "# Generate a random NumPy array and sort it in ascending order.\n",
    "\n",
    "arr = np.random.randint(1, 101, size=10)\n",
    "\n",
    "sorted_arr = np.sort(arr)\n",
    "\n",
    "print(\"Sorted array (ascending):\", sorted_arr)"
   ]
  },
  {
   "cell_type": "code",
   "execution_count": 136,
   "id": "03905318-f0cf-48c9-ad85-339145a8145c",
   "metadata": {},
   "outputs": [
    {
     "name": "stdout",
     "output_type": "stream",
     "text": [
      "Filtered elements > 20: [25 42 30]\n"
     ]
    }
   ],
   "source": [
    "# Filter elements >20  in the given NumPy array.\n",
    "\n",
    "arr = np.array([12, 25, 6, 42, 8, 30])\n",
    "\n",
    "filtered = arr[arr > 20]\n",
    "\n",
    "print(\"Filtered elements > 20:\", filtered)"
   ]
  },
  {
   "cell_type": "code",
   "execution_count": 138,
   "id": "983eb2be-a327-4b3a-9f2d-dae9ffe6e511",
   "metadata": {},
   "outputs": [
    {
     "name": "stdout",
     "output_type": "stream",
     "text": [
      "Elements divisible by 3: [12 15]\n"
     ]
    }
   ],
   "source": [
    " # Filter elements which are divisible by 3 from a given NumPy array.\n",
    "\n",
    "arr = np.array([1, 5, 8, 12, 15])\n",
    "\n",
    "filtered = arr[arr % 3 == 0]\n",
    "\n",
    "print(\"Elements divisible by 3:\", filtered)"
   ]
  },
  {
   "cell_type": "code",
   "execution_count": 140,
   "id": "9e71e425-7426-4b12-84c4-0d3d48f0921a",
   "metadata": {},
   "outputs": [
    {
     "name": "stdout",
     "output_type": "stream",
     "text": [
      "Elements between 20 and 40 (inclusive): [20 30 40]\n"
     ]
    }
   ],
   "source": [
    " # Filter elements which are ≥ 20 and ≤ 40 from a given NumPy array.\n",
    "\n",
    "arr = np.array([10, 20, 30, 40, 50])\n",
    "\n",
    "filtered = arr[(arr >= 20) & (arr <= 40)]\n",
    "\n",
    "print(\"Elements between 20 and 40 (inclusive):\", filtered)"
   ]
  },
  {
   "cell_type": "code",
   "execution_count": 153,
   "id": "b3efb102-14c5-4461-b183-39b93bea726a",
   "metadata": {},
   "outputs": [
    {
     "name": "stdout",
     "output_type": "stream",
     "text": [
      "=\n"
     ]
    }
   ],
   "source": [
    "# For the given NumPy array, check its byte order using the `dtype` attribute byteorder.\n",
    "\n",
    "arr = np.array([1, 2, 3])\n",
    "print(arr.dtype.byteorder)"
   ]
  },
  {
   "cell_type": "code",
   "execution_count": 167,
   "id": "9735f09b-22d6-45be-bbe8-3a724591e54f",
   "metadata": {},
   "outputs": [
    {
     "name": "stdout",
     "output_type": "stream",
     "text": [
      "[ 72057594037927936 144115188075855872 216172782113783808]\n",
      "Byte order after swap: =\n"
     ]
    }
   ],
   "source": [
    "# For the given NumPy array, perform byte swapping in place using `byteswap()\n",
    "\n",
    "arr = np.array([1, 2, 3])\n",
    "arr.byteswap(inplace=True)\n",
    "\n",
    "print(arr)\n",
    "print(\"Byte order after swap:\", arr.dtype.byteorder)"
   ]
  },
  {
   "cell_type": "code",
   "execution_count": 181,
   "id": "1cb9afbc-edbe-4399-ab68-a358a9625e69",
   "metadata": {},
   "outputs": [
    {
     "name": "stdout",
     "output_type": "stream",
     "text": [
      "Original array: [1 2 3]\n",
      "Original dtype byteorder: =\n",
      "Swapped array: [16777216 33554432 50331648]\n",
      "Swapped dtype byteorder: >\n"
     ]
    }
   ],
   "source": [
    "# For the given NumPy array, swap its byte order without modifying the original array using\n",
    "# `newbyteorder()`.\n",
    "\n",
    "arr = np.array([1, 2, 3], dtype=np.int32)\n",
    "swapped_arr = arr.view(arr.dtype.newbyteorder())\n",
    "\n",
    "print(\"Original array:\", arr)\n",
    "print(\"Original dtype byteorder:\", arr.dtype.byteorder)\n",
    "print(\"Swapped array:\", swapped_arr)\n",
    "print(\"Swapped dtype byteorder:\", swapped_arr.dtype.byteorder)"
   ]
  },
  {
   "cell_type": "code",
   "execution_count": 185,
   "id": "68bf8bba-6ba0-430f-9f98-04417140cb92",
   "metadata": {},
   "outputs": [
    {
     "name": "stdout",
     "output_type": "stream",
     "text": [
      "Original array: [1 2 3]\n",
      "Original dtype byteorder: =\n",
      "Swapped array: [16777216 33554432 50331648]\n",
      "Swapped dtype byteorder: >\n"
     ]
    }
   ],
   "source": [
    "# For the given NumPy array and swap its byte order conditionally based on system endianness using\n",
    "# `newbyteorder()`.\n",
    "\n",
    "arr = np.array([1, 2, 3], dtype=np.int32)\n",
    "\n",
    "if np.little_endian:\n",
    "    swapped_arr = arr.view(arr.dtype.newbyteorder('>')) \n",
    "else:\n",
    "    swapped_arr = arr.view(arr.dtype.newbyteorder('<')) \n",
    "\n",
    "print(\"Original array:\", arr)\n",
    "print(\"Original dtype byteorder:\", arr.dtype.byteorder)\n",
    "print(\"Swapped array:\", swapped_arr)\n",
    "print(\"Swapped dtype byteorder:\", swapped_arr.dtype.byteorder)"
   ]
  },
  {
   "cell_type": "code",
   "execution_count": 187,
   "id": "a28793e6-725e-44b1-9e96-6830c9e19bae",
   "metadata": {},
   "outputs": [
    {
     "name": "stdout",
     "output_type": "stream",
     "text": [
      "Array byte order: =\n",
      "System byte order: <\n",
      "Byte swap needed: False\n"
     ]
    }
   ],
   "source": [
    "# For the given NumPy array, check if byte swapping is necessary for the current system using `dtype`\n",
    "# attribute `byteorder`.\n",
    "\n",
    "import sys\n",
    "\n",
    "arr = np.array([1, 2, 3], dtype=np.int32)\n",
    "\n",
    "byte_order = arr.dtype.byteorder\n",
    "\n",
    "system_byte_order = '<' if sys.byteorder == 'little' else '>'\n",
    "\n",
    "needs_swap = (\n",
    "    (byte_order != '=') and (byte_order != '|') and (byte_order != system_byte_order)\n",
    ")\n",
    "print(\"Array byte order:\", byte_order)\n",
    "print(\"System byte order:\", system_byte_order)\n",
    "print(\"Byte swap needed:\", needs_swap)"
   ]
  },
  {
   "cell_type": "code",
   "execution_count": 189,
   "id": "ed65ce2a-74bc-4046-bc6d-0b833dbd6841",
   "metadata": {},
   "outputs": [
    {
     "name": "stdout",
     "output_type": "stream",
     "text": [
      "Original array (arr1): [ 1  2  3  4  5  6  7  8  9 10]\n",
      "Copied and modified array (copy_arr): [999   2   3   4   5   6   7   8   9  10]\n"
     ]
    }
   ],
   "source": [
    "# Create a NumPy array `arr1` with values from 1 to 10. Create a copy of `arr1` named `copy_arr` and modify\n",
    "# an element in `copy_arr`. Check if modifying `copy_arr` affects `arr1`.\n",
    "\n",
    "arr1 = np.arange(1, 11)\n",
    "copy_arr = arr1.copy()\n",
    "copy_arr[0] = 999\n",
    "\n",
    "print(\"Original array (arr1):\", arr1)\n",
    "print(\"Copied and modified array (copy_arr):\", copy_arr)"
   ]
  },
  {
   "cell_type": "code",
   "execution_count": 191,
   "id": "f91b7375-1450-4ef8-9e89-e0993aeb9ec9",
   "metadata": {},
   "outputs": [
    {
     "name": "stdout",
     "output_type": "stream",
     "text": [
      "Modified view_slice:\n",
      " [[999  92]\n",
      " [ 33  75]]\n",
      "Original matrix after modifying the slice:\n",
      " [[999  92  53]\n",
      " [ 33  75   8]\n",
      " [ 15  21  58]]\n"
     ]
    }
   ],
   "source": [
    "# Create a 2D NumPy array `matrix` of shape (3, 3) with random integers. Extract a slice `view_slice` from\n",
    "# the matrix. Modify an element in `view_slice` and observe if it changes the original `matrix`.\n",
    "\n",
    "matrix = np.random.randint(1, 101, size=(3, 3))\n",
    "view_slice = matrix[:2, :2]\n",
    "view_slice[0, 0] = 999\n",
    "\n",
    "print(\"Modified view_slice:\\n\", view_slice)\n",
    "print(\"Original matrix after modifying the slice:\\n\", matrix)"
   ]
  },
  {
   "cell_type": "code",
   "execution_count": 193,
   "id": "bcb4b6a8-6c24-4a97-a523-d64046f26398",
   "metadata": {},
   "outputs": [
    {
     "name": "stdout",
     "output_type": "stream",
     "text": [
      "Modified view_b:\n",
      " [[ 6  7  8]\n",
      " [ 9 10 11]]\n",
      "Original array_a after modifying view_b:\n",
      " [[ 6  7  8]\n",
      " [ 9 10 11]\n",
      " [ 7  8  9]\n",
      " [10 11 12]]\n"
     ]
    }
   ],
   "source": [
    "# Create a NumPy array `array_a` of shape (4, 3) with sequential integers from 1 to 12. Extract a slice\n",
    "# `view_b` from `array_a` and broadcast the addition of 5 to view_b. Check if it alters the original `array_a`.\n",
    "\n",
    "array_a = np.arange(1, 13).reshape(4, 3)\n",
    "view_b = array_a[:2, :]\n",
    "view_b += 5  \n",
    "\n",
    "print(\"Modified view_b:\\n\", view_b)\n",
    "print(\"Original array_a after modifying view_b:\\n\", array_a)"
   ]
  },
  {
   "cell_type": "code",
   "execution_count": 195,
   "id": "64370f66-f2ed-489b-a5ac-dabf06670d28",
   "metadata": {},
   "outputs": [
    {
     "name": "stdout",
     "output_type": "stream",
     "text": [
      "Reshaped view:\n",
      " [[999   2]\n",
      " [  3   4]\n",
      " [  5   6]\n",
      " [  7   8]]\n",
      "Original array after modifying reshaped_view:\n",
      " [[999   2   3   4]\n",
      " [  5   6   7   8]]\n"
     ]
    }
   ],
   "source": [
    "# Create a NumPy array `orig_array` of shape (2, 4) with values from 1 to 8. Create a reshaped view\n",
    "# `reshaped_view` of shape (4, 2) from orig_array. Modify an element in `reshaped_view` and check if it\n",
    "# reflects changes in the original `orig_array`.\n",
    "\n",
    "orig_array = np.arange(1, 9).reshape(2, 4)\n",
    "reshaped_view = orig_array.reshape(4, 2)\n",
    "reshaped_view[0, 0] = 999\n",
    "\n",
    "print(\"Reshaped view:\\n\", reshaped_view)\n",
    "print(\"Original array after modifying reshaped_view:\\n\", orig_array)"
   ]
  },
  {
   "cell_type": "code",
   "execution_count": 209,
   "id": "4428f2ed-2450-4035-baf3-9e529240c204",
   "metadata": {},
   "outputs": [
    {
     "name": "stdout",
     "output_type": "stream",
     "text": [
      "\n",
      " [10  8  7 10  9  7  9]\n",
      "Extracted copy (data_copy):\n",
      " [999   8   7  10   9   7   9]\n"
     ]
    }
   ],
   "source": [
    "#  Create a NumPy array `data` of shape (3, 4) with random integers. Extract a copy `data_copy` of\n",
    "# elements greater than 5. Modify an element in `data_copy` and verify if it affects the original `data`.\n",
    "\n",
    "data = np.random.randint(1, 11, size=(3, 4))\n",
    "\n",
    "data_copy = data[data > 5]\n",
    "print(\"\\n\", data_copy)\n",
    "data_copy[0] = 999\n",
    "\n",
    "print(\"Extracted copy (data_copy):\\n\", data_copy)"
   ]
  },
  {
   "cell_type": "code",
   "execution_count": 213,
   "id": "1d9f87fb-e566-4f61-8b9c-7c5ad3b1bd90",
   "metadata": {},
   "outputs": [
    {
     "name": "stdout",
     "output_type": "stream",
     "text": [
      "A + B:\n",
      " [[10 10 10]\n",
      " [10 10 10]\n",
      " [10 10 10]]\n",
      "A - B:\n",
      " [[-8 -6 -4]\n",
      " [-2  0  2]\n",
      " [ 4  6  8]]\n"
     ]
    }
   ],
   "source": [
    "# Create two matrices A and B of identical shape containing integers and perform addition and subtraction\n",
    "# operations between them.\n",
    "\n",
    "A = np.array([[1, 2, 3],\n",
    "              [4, 5, 6],\n",
    "              [7, 8, 9]])\n",
    "\n",
    "B = np.array([[9, 8, 7],\n",
    "              [6, 5, 4],\n",
    "              [3, 2, 1]])\n",
    "\n",
    "add_result = A + B\n",
    "sub_result = A - B\n",
    "\n",
    "print(\"A + B:\\n\", add_result)\n",
    "print(\"A - B:\\n\", sub_result)"
   ]
  },
  {
   "cell_type": "code",
   "execution_count": 215,
   "id": "992383a3-6e9c-4b01-99c2-fcd6e0ced878",
   "metadata": {},
   "outputs": [
    {
     "name": "stdout",
     "output_type": "stream",
     "text": [
      "Matrix multiplication result (C x D):\n",
      " [[ 29  32  35  38]\n",
      " [ 65  72  79  86]\n",
      " [101 112 123 134]]\n"
     ]
    }
   ],
   "source": [
    " # Generate two matrices `C` (3x2) and `D` (2x4) and perform matrix multiplication.\n",
    "\n",
    "C = np.array([[1, 2],\n",
    "              [3, 4],\n",
    "              [5, 6]])\n",
    "\n",
    "D = np.array([[7, 8, 9, 10],\n",
    "              [11, 12, 13, 14]])\n",
    "\n",
    "result = np.dot(C, D)\n",
    "print(\"Matrix multiplication result (C x D):\\n\", result)"
   ]
  },
  {
   "cell_type": "code",
   "execution_count": 219,
   "id": "de980d71-ad7d-4647-9a00-0ee7dc3e47de",
   "metadata": {},
   "outputs": [
    {
     "name": "stdout",
     "output_type": "stream",
     "text": [
      "Transpose of E:\n",
      " [[1 4]\n",
      " [2 5]\n",
      " [3 6]]\n"
     ]
    }
   ],
   "source": [
    "# Create a matrix `E` and find its transpose.\n",
    "\n",
    "E = np.array([[1, 2, 3],\n",
    "              [4, 5, 6]])\n",
    "\n",
    "E_transpose = E.T  \n",
    "\n",
    "print(\"Transpose of E:\\n\", E_transpose)"
   ]
  },
  {
   "cell_type": "code",
   "execution_count": 221,
   "id": "3e3fe166-4049-43a5-b0c9-83c1303ebd4c",
   "metadata": {},
   "outputs": [
    {
     "name": "stdout",
     "output_type": "stream",
     "text": [
      "Determinant of F: 93.00000000000003\n"
     ]
    }
   ],
   "source": [
    "# Generate a square matrix `F` and compute its determinant.\n",
    "\n",
    "F = np.array([[4, 2, 1],\n",
    "              [3, 5, 7],\n",
    "              [1, 0, 6]])\n",
    "\n",
    "det_F = np.linalg.det(F)\n",
    "\n",
    "print(\"Determinant of F:\", det_F)"
   ]
  },
  {
   "cell_type": "code",
   "execution_count": 223,
   "id": "24686f29-1d33-4f52-859f-c49f8be83c75",
   "metadata": {},
   "outputs": [
    {
     "name": "stdout",
     "output_type": "stream",
     "text": [
      "Inverse of G:\n",
      " [[ 1.44444444 -1.22222222 -0.55555556]\n",
      " [-0.77777778  0.88888889  0.22222222]\n",
      " [ 0.33333333 -0.66666667  0.33333333]]\n"
     ]
    }
   ],
   "source": [
    "# Create a square matrix `G` and find its inverse.\n",
    "\n",
    "G = np.array([[4, 7, 2],\n",
    "              [3, 6, 1],\n",
    "              [2, 5, 3]])\n",
    "\n",
    "G_inv = np.linalg.inv(G)\n",
    "\n",
    "print(\"Inverse of G:\\n\", G_inv)"
   ]
  },
  {
   "cell_type": "code",
   "execution_count": null,
   "id": "30091b3a-d6e1-4d6f-8cb6-9c564b419ded",
   "metadata": {},
   "outputs": [],
   "source": []
  }
 ],
 "metadata": {
  "kernelspec": {
   "display_name": "Python [conda env:base] *",
   "language": "python",
   "name": "conda-base-py"
  },
  "language_info": {
   "codemirror_mode": {
    "name": "ipython",
    "version": 3
   },
   "file_extension": ".py",
   "mimetype": "text/x-python",
   "name": "python",
   "nbconvert_exporter": "python",
   "pygments_lexer": "ipython3",
   "version": "3.11.5"
  }
 },
 "nbformat": 4,
 "nbformat_minor": 5
}
