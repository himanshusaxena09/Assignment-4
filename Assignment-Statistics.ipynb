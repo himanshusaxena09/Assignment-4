{
 "cells": [
  {
   "cell_type": "code",
   "execution_count": 40,
   "id": "6a0e05ce-7663-45ae-81e8-f1c8260593c8",
   "metadata": {},
   "outputs": [
    {
     "name": "stdout",
     "output_type": "stream",
     "text": [
      "Mean: 109.54\n",
      "Median: 110.5\n"
     ]
    }
   ],
   "source": [
    "# Generate a list of 100 integers containing values between 90 to 130 and store it in the variable `int_list`.\n",
    "# After generating the list, find the following:\n",
    "\n",
    "# Write a Python function to calculate the mean of a given list of numbers.\n",
    "# Create a function to find the median of a list of numbers.\n",
    "\n",
    "import random\n",
    "\n",
    "int_list = [random.randint(90, 130) for _ in range(100)]\n",
    "\n",
    "def mean(numbers):\n",
    "    return sum(numbers) / len(numbers)\n",
    "    \n",
    "def median(numbers):\n",
    "    sorted_list = sorted(numbers)\n",
    "    n = len(sorted_list)\n",
    "    mid = n // 2\n",
    "    \n",
    "    if n % 2 == 0:\n",
    "        return (sorted_list[mid - 1] + sorted_list[mid]) / 2\n",
    "    else:\n",
    "        return sorted_list[mid]\n",
    "\n",
    "mean_value = mean(int_list)\n",
    "median_value = median(int_list)\n",
    "print(\"Mean:\", mean_value)\n",
    "print(\"Median:\", median_value)"
   ]
  },
  {
   "cell_type": "code",
   "execution_count": 42,
   "id": "9dccba4b-2bdf-402d-a852-8dd0e273767d",
   "metadata": {},
   "outputs": [
    {
     "name": "stdout",
     "output_type": "stream",
     "text": [
      "Mode: [92]\n"
     ]
    }
   ],
   "source": [
    " # Develop a program to compute the mode of a list of integers\n",
    "\n",
    "from collections import Counter\n",
    "\n",
    "int_list = [random.randint(90, 130) for _ in range(100)]\n",
    "\n",
    "def cal_mode(numbers):\n",
    "    count = Counter(numbers)\n",
    "    max_freq = max(count.values())\n",
    "    mode = [num for num, freq in count.items() if freq == max_freq]\n",
    "    \n",
    "    if len(mode) == len(count):\n",
    "        return None \n",
    "    return mode\n",
    "\n",
    "print(\"Mode:\", cal_mode(int_list))"
   ]
  },
  {
   "cell_type": "code",
   "execution_count": 50,
   "id": "41d93de1-3214-4811-821d-eaaa23050405",
   "metadata": {},
   "outputs": [
    {
     "name": "stdout",
     "output_type": "stream",
     "text": [
      "Weighted Mean: 112.90573012939002\n"
     ]
    }
   ],
   "source": [
    " # Implement a function to calculate the weighted mean of a list of values and their corresponding weights\n",
    "\n",
    "int_list = [random.randint(90, 130) for _ in range(100)]\n",
    "weights = [random.randint(1, 10) for _ in range(100)]\n",
    "\n",
    "def calculate_weighted_mean(values, weights):\n",
    "    if len(values) != len(weights):\n",
    "        raise ValueError(\"The number of values must match the number of weights.\")\n",
    "    \n",
    "    weighted_sum = sum(v * w for v, w in zip(values, weights))\n",
    "    total_weight = sum(weights)\n",
    "    \n",
    "    if total_weight == 0:\n",
    "        raise ValueError(\"Sum of weights cannot be zero.\")\n",
    "    \n",
    "    return weighted_sum / total_weight\n",
    "\n",
    "\n",
    "weighted_mean = calculate_weighted_mean(int_list, weights)\n",
    "\n",
    "print(\"Weighted Mean:\", weighted_mean)\n"
   ]
  },
  {
   "cell_type": "code",
   "execution_count": 54,
   "id": "feef414e-e1c5-4503-b483-85fbc6855730",
   "metadata": {},
   "outputs": [
    {
     "name": "stdout",
     "output_type": "stream",
     "text": [
      "Geometric Mean: 110.02124478992174\n"
     ]
    }
   ],
   "source": [
    "# Write a Python function to find the geometric mean of a list of positive numbers\n",
    "\n",
    "import math\n",
    "\n",
    "int_list = [random.randint(90, 130) for _ in range(100)]\n",
    "\n",
    "def calculate_geometric_mean(numbers):\n",
    "    if not numbers:\n",
    "        raise ValueError(\"List is empty.\")\n",
    "    \n",
    "    product = 1\n",
    "    n = len(numbers)\n",
    "    \n",
    "    for num in numbers:\n",
    "        if num <= 0:\n",
    "            raise ValueError(\"All numbers must be positive.\")\n",
    "        product *= num\n",
    "\n",
    "    return product ** (1 / n)\n",
    "    \n",
    "geo_mean = calculate_geometric_mean(int_list)\n",
    "\n",
    "print(\"Geometric Mean:\", geo_mean)"
   ]
  },
  {
   "cell_type": "code",
   "execution_count": 33,
   "id": "16515421-de54-4a47-86e7-6d2e8b9862f7",
   "metadata": {},
   "outputs": [
    {
     "name": "stdout",
     "output_type": "stream",
     "text": [
      "107.2532785782461\n"
     ]
    }
   ],
   "source": [
    "# Create a program to calculate the harmonic mean of a list of values.\n",
    "\n",
    "import random\n",
    "int_list = [random.randint(90, 130) for _ in range(100)]\n",
    "def harmonic_mean(values):\n",
    "    if not values:\n",
    "        return 0\n",
    "    \n",
    "    n = len(values)\n",
    "    reciprocal_sum = sum(1 / x for x in values)\n",
    "\n",
    "    return n / reciprocal_sum\n",
    "result = harmonic_mean(int_list)\n",
    "print(result)"
   ]
  },
  {
   "cell_type": "code",
   "execution_count": 38,
   "id": "8eb9b126-60c6-47ac-b095-2ad0345cc193",
   "metadata": {},
   "outputs": [
    {
     "name": "stdout",
     "output_type": "stream",
     "text": [
      "Midrange: 17.50\n"
     ]
    }
   ],
   "source": [
    "# Build a function to determine the midrange of a list of numbers (average of the minimum and maximum)\n",
    "\n",
    "def midrange(values):\n",
    "    if not values:\n",
    "        return None  \n",
    "    minimum = min(values)\n",
    "    maximum = max(values)\n",
    "    return (minimum + maximum) / 2\n",
    "data = [5, 12, 30, 7, 9]\n",
    "print(f\"Midrange: {midrange(data):.2f}\")"
   ]
  },
  {
   "cell_type": "code",
   "execution_count": 1,
   "id": "9855db9c-4113-42e6-b33b-c81ae8851519",
   "metadata": {},
   "outputs": [
    {
     "name": "stdout",
     "output_type": "stream",
     "text": [
      "Trimmed Mean (trim_percent = 10%): 49.81\n"
     ]
    }
   ],
   "source": [
    "#  Implement a Python program to find the trimmed mean of a list, excluding a certain percentage of\n",
    "# outliers.\n",
    "\n",
    "def trimmed_mean(values, trim_percent):\n",
    "    if not values:\n",
    "        return None \n",
    "    if not (0 <= trim_percent < 50):\n",
    "        raise ValueError(\"trim_percent must be between 0 and less than 50\")\n",
    "\n",
    "    values_sorted = sorted(values)\n",
    "    n = len(values)\n",
    "    k = int(n * trim_percent / 100)\n",
    "\n",
    "    trimmed_values = values_sorted[k:n - k]\n",
    "\n",
    "    if not trimmed_values:\n",
    "        return None \n",
    "    return sum(trimmed_values) / len(trimmed_values)\n",
    "import random\n",
    "data = [random.randint(10, 100) for _ in range(20)]\n",
    "trim_percent = 10  \n",
    "result = trimmed_mean(data, trim_percent)\n",
    "print(f\"Trimmed Mean (trim_percent = {trim_percent}%): {result:.2f}\")"
   ]
  },
  {
   "cell_type": "code",
   "execution_count": 9,
   "id": "7d336ecc-4ff8-4eee-8f2c-d5a21235160b",
   "metadata": {},
   "outputs": [
    {
     "data": {
      "text/plain": [
       "<matplotlib.legend.Legend at 0x19312594950>"
      ]
     },
     "execution_count": 9,
     "metadata": {},
     "output_type": "execute_result"
    },
    {
     "data": {
      "image/png": "[encoded data removed]",
      "text/plain": [
       "<Figure size 1500x400 with 1 Axes>"
      ]
     },
     "metadata": {},
     "output_type": "display_data"
    }
   ],
   "source": [
    "# Generate a list of 500 integers containing values between 200 to 300 and store it in the variable `int_list2`.\n",
    "# After generating the list, find the following:\n",
    "\n",
    "# (i) Compare the given list of visualization for the given data:\n",
    "\n",
    "# 1. Frequency & Gaussian distribution\n",
    "\n",
    "import random\n",
    "int_list2 = [random.randint(200, 300) for _ in range(500)]\n",
    "\n",
    "import matplotlib.pyplot as plt\n",
    "import seaborn as sns\n",
    "import numpy as np\n",
    "from scipy.stats import norm\n",
    "\n",
    "data = np.array(int_list2)\n",
    "\n",
    "mu, std = data.mean(), data.std()\n",
    "x = np.linspace(data.min(), data.max(), 500)\n",
    "gaussian = norm.pdf(x, mu, std)\n",
    "\n",
    "# Frequency Histogram & Gaussian Distribution\n",
    "plt.figure(figsize=(15, 4))\n",
    "sns.histplot(data, bins=20, stat=\"density\", color='skyblue', edgecolor='black')\n",
    "plt.plot(x, gaussian, 'r', label='Gaussian Curve')\n",
    "plt.title(\"Histogram + Gaussian\")\n",
    "plt.legend()"
   ]
  },
  {
   "cell_type": "code",
   "execution_count": 23,
   "id": "2d3f10f2-055d-4168-8316-1dc43be9c952",
   "metadata": {},
   "outputs": [
    {
     "data": {
      "image/png": "[encoded data removed]",
      "text/plain": [
       "<Figure size 640x480 with 1 Axes>"
      ]
     },
     "metadata": {},
     "output_type": "display_data"
    }
   ],
   "source": [
    "# Frequency smoothened KDE plot\n",
    "sns.histplot(data, bins=20, stat=\"density\", color='lightgreen', edgecolor='black')\n",
    "sns.kdeplot(data, color='darkgreen', linewidth=2, label='KDE Curve')\n",
    "plt.title(\"Histogram + KDE\")\n",
    "plt.legend()\n",
    "plt.show()"
   ]
  },
  {
   "cell_type": "code",
   "execution_count": 25,
   "id": "d4d3e810-e02c-4fdb-a9e9-543a57a0e0a6",
   "metadata": {},
   "outputs": [
    {
     "data": {
      "image/png": "[encoded data removed]",
      "text/plain": [
       "<Figure size 640x480 with 1 Axes>"
      ]
     },
     "metadata": {},
     "output_type": "display_data"
    }
   ],
   "source": [
    "# Gaussian distribution & smoothened KDE plot\n",
    "plt.plot(x, gaussian, 'r', label='Gaussian')\n",
    "sns.kdeplot(data, color='blue', linewidth=2, label='KDE')\n",
    "plt.title(\"Gaussian vs KDE\")\n",
    "plt.legend()\n",
    "plt.show()"
   ]
  },
  {
   "cell_type": "code",
   "execution_count": 50,
   "id": "e9f88aa0-15f9-4220-ad0c-4f9a072df47c",
   "metadata": {},
   "outputs": [
    {
     "name": "stdout",
     "output_type": "stream",
     "text": [
      "Range of the list: 35\n"
     ]
    }
   ],
   "source": [
    "# Write a Python function to calculate the range of a given list of numbers.\n",
    "\n",
    "int_list2 = [10, 25, 30, 5, 18, 40]\n",
    "\n",
    "def calculate_range(numbers):\n",
    "    if not numbers:\n",
    "        return None \n",
    "    return max(numbers) - min(numbers)\n",
    "result = calculate_range(int_list2)\n",
    "print(f\"Range of the list: {result}\")"
   ]
  },
  {
   "cell_type": "code",
   "execution_count": 52,
   "id": "bff31831-b702-4cdd-8e1e-2d36bb9bfd18",
   "metadata": {},
   "outputs": [
    {
     "name": "stdout",
     "output_type": "stream",
     "text": [
      "Variance: 843.96\n",
      "Standard Deviation: 29.05\n"
     ]
    }
   ],
   "source": [
    "# Create a program to find the variance and standard deviation of a list of numbers.\n",
    "\n",
    "import random\n",
    "import math \n",
    "\n",
    "int_list2 = [random.randint(200, 300) for _ in range(500)]\n",
    "\n",
    "def calculate_variance(numbers):\n",
    "    if not numbers:\n",
    "        return None\n",
    "    mean = sum(numbers) / len(numbers)\n",
    "    variance = sum((x - mean) ** 2 for x in numbers) / len(numbers)\n",
    "    return variance\n",
    "\n",
    "def calculate_standard_deviation(numbers):\n",
    "    variance = calculate_variance(numbers)\n",
    "    if variance is None:\n",
    "        return None\n",
    "    return math.sqrt(variance)\n",
    "\n",
    "variance = calculate_variance(int_list2)\n",
    "std_dev = calculate_standard_deviation(int_list2)\n",
    "\n",
    "print(f\"Variance: {variance:.2f}\")\n",
    "print(f\"Standard Deviation: {std_dev:.2f}\")"
   ]
  },
  {
   "cell_type": "code",
   "execution_count": 44,
   "id": "3137c95a-ff60-440a-b1b4-cc56593957cd",
   "metadata": {},
   "outputs": [
    {
     "name": "stdout",
     "output_type": "stream",
     "text": [
      "Interquartile Range (IQR): 50.0\n"
     ]
    }
   ],
   "source": [
    " # Implement a function to compute the interquartile range (IQR) of a list of values\n",
    "\n",
    "int_list2 = [random.randint(200, 300) for _ in range(500)]\n",
    "\n",
    "def calculate_iqr(numbers):\n",
    "    if not numbers:\n",
    "        return None\n",
    "    q1 = np.percentile(numbers, 25)\n",
    "    q3 = np.percentile(numbers, 75)\n",
    "    iqr = q3 - q1\n",
    "    return iqr\n",
    "\n",
    "iqr = calculate_iqr(int_list2)\n",
    "print(f\"Interquartile Range (IQR): {iqr}\")"
   ]
  },
  {
   "cell_type": "code",
   "execution_count": 7,
   "id": "67412259-28da-45b3-9ac6-8b605c67a0a7",
   "metadata": {},
   "outputs": [
    {
     "name": "stdout",
     "output_type": "stream",
     "text": [
      "Coefficient of Variation: 11.60%\n"
     ]
    }
   ],
   "source": [
    "# Build a program to calculate the coefficient of variation for a dataset\n",
    "\n",
    "import random\n",
    "import math \n",
    "\n",
    "int_list2 = [random.randint(200, 300) for _ in range(500)]\n",
    "\n",
    "def calculate_coefficient_of_variation(numbers):\n",
    "    if not numbers:\n",
    "        return None\n",
    "    \n",
    "    mean = sum(numbers) / len(numbers)\n",
    "    variance = sum((x - mean) ** 2 for x in numbers) / len(numbers)\n",
    "    std_dev = math.sqrt(variance)\n",
    "    \n",
    "    if mean == 0:\n",
    "        return None\n",
    "\n",
    "    cv = (std_dev / mean) * 100\n",
    "    return cv\n",
    "    \n",
    "cv = calculate_coefficient_of_variation(int_list2)\n",
    "\n",
    "print(f\"Coefficient of Variation: {cv:.2f}%\")"
   ]
  },
  {
   "cell_type": "code",
   "execution_count": 48,
   "id": "9e4f9f34-9a86-4e2f-aed4-c759f7b12cf3",
   "metadata": {},
   "outputs": [
    {
     "name": "stdout",
     "output_type": "stream",
     "text": [
      "Mean Absolute Deviation (MAD): 25.74\n"
     ]
    }
   ],
   "source": [
    " # Write a Python function to find the mean absolute deviation (MAD) of a list of numbers.\n",
    "\n",
    "int_list2 = [random.randint(200, 300) for _ in range(500)]\n",
    "\n",
    "def calculate_mad(numbers):\n",
    "    if not numbers:\n",
    "        return None\n",
    "    mean = sum(numbers) / len(numbers)\n",
    "    mad = sum(abs(x - mean) for x in numbers) / len(numbers)\n",
    "    return mad\n",
    "\n",
    "mad = calculate_mad(int_list2)\n",
    "print(f\"Mean Absolute Deviation (MAD): {mad:.2f}\")"
   ]
  },
  {
   "cell_type": "code",
   "execution_count": 56,
   "id": "8e8dc0c1-dabf-4e0c-8fe9-424c9abc803e",
   "metadata": {},
   "outputs": [
    {
     "name": "stdout",
     "output_type": "stream",
     "text": [
      "Quartile Deviation: 23.625\n"
     ]
    }
   ],
   "source": [
    " # Create a program to calculate the quartile deviation of a list of values.\n",
    "\n",
    "int_list2 = [random.randint(200, 300) for _ in range(500)]\n",
    "\n",
    "import numpy as np\n",
    "\n",
    "def calculate_quartile_deviation(numbers):\n",
    "    if not numbers:\n",
    "        return None\n",
    "    q1 = np.percentile(numbers, 25)\n",
    "    q3 = np.percentile(numbers, 75)\n",
    "    qd = (q3 - q1) / 2\n",
    "    return qd\n",
    "\n",
    "qd = calculate_quartile_deviation(int_list2)\n",
    "print(f\"Quartile Deviation: {qd}\")"
   ]
  },
  {
   "cell_type": "code",
   "execution_count": 62,
   "id": "d4cf3f82-d76b-4d29-8031-b5f0f564b5e5",
   "metadata": {},
   "outputs": [
    {
     "name": "stdout",
     "output_type": "stream",
     "text": [
      "Range-Based Coefficient of Dispersion: 0.20\n"
     ]
    }
   ],
   "source": [
    " # Implement a function to find the range-based coefficient of dispersion for a dataset\n",
    "\n",
    "int_list2 = [random.randint(200, 300) for _ in range(500)]\n",
    "\n",
    "def range_coefficient_of_dispersion(numbers):\n",
    "    if not numbers:\n",
    "        return None\n",
    "    max_val = max(numbers)\n",
    "    min_val = min(numbers)\n",
    "    if max_val + min_val == 0:\n",
    "        return None \n",
    "    return (max_val - min_val) / (max_val + min_val)\n",
    "\n",
    "rcd = range_coefficient_of_dispersion(int_list2)\n",
    "print(f\"Range-Based Coefficient of Dispersion: {rcd:.2f}\")"
   ]
  },
  {
   "cell_type": "code",
   "execution_count": 70,
   "id": "a9fe83cd-3984-416d-81b0-56a5299d80b2",
   "metadata": {},
   "outputs": [
    {
     "name": "stdout",
     "output_type": "stream",
     "text": [
      "Expected Value: 3.20\n",
      "Variance: 1.56\n"
     ]
    }
   ],
   "source": [
    "# Write a Python class representing a discrete random variable with methods to calculate its expected\n",
    "# value and variance.\n",
    "\n",
    "class DiscreteRandomVariable:\n",
    "    def __init__(self, values, probabilities):\n",
    "        if len(values) != len(probabilities):\n",
    "            raise ValueError(\"Values and probabilities must be the same length.\")\n",
    "        if not abs(sum(probabilities) - 1.0) < 1e-6:\n",
    "            raise ValueError(\"Probabilities must sum to 1.\")\n",
    "        \n",
    "        self.values = values\n",
    "        self.probabilities = probabilities\n",
    "\n",
    "    def expected_value(self):\n",
    "        return sum(x * p for x, p in zip(self.values, self.probabilities))\n",
    "\n",
    "    def variance(self):\n",
    "        mean = self.expected_value()\n",
    "        ex2 = sum((x ** 2) * p for x, p in zip(self.values, self.probabilities))\n",
    "        return ex2 - mean ** 2\n",
    "\n",
    "values = [1, 2, 3, 4, 5]\n",
    "probabilities = [0.1, 0.2, 0.3, 0.2, 0.2]\n",
    "\n",
    "drv = DiscreteRandomVariable(values, probabilities)\n",
    "\n",
    "print(f\"Expected Value: {drv.expected_value():.2f}\")\n",
    "print(f\"Variance: {drv.variance():.2f}\")"
   ]
  },
  {
   "cell_type": "code",
   "execution_count": 72,
   "id": "9bb89256-4694-4396-8b57-e6e8c0ed779d",
   "metadata": {},
   "outputs": [
    {
     "name": "stdout",
     "output_type": "stream",
     "text": [
      "Simulated Expected Value: 3.48\n",
      "Simulated Variance: 2.90\n"
     ]
    }
   ],
   "source": [
    "# Implement a program to simulate the rolling of a fair six-sided die and calculate the expected value and\n",
    "# variance of the outcomes\n",
    "\n",
    "def roll_die(num_rolls=10000):\n",
    "    return [random.randint(1, 6) for _ in range(num_rolls)]\n",
    "\n",
    "def expected_value(outcomes):\n",
    "    return sum(outcomes) / len(outcomes)\n",
    "\n",
    "def variance(outcomes):\n",
    "    mean = expected_value(outcomes)\n",
    "    return sum((x - mean) ** 2 for x in outcomes) / len(outcomes)\n",
    "\n",
    "rolls = roll_die(10000)\n",
    "\n",
    "mean = expected_value(rolls)\n",
    "var = variance(rolls)\n",
    "\n",
    "print(f\"Simulated Expected Value: {mean:.2f}\")\n",
    "print(f\"Simulated Variance: {var:.2f}\")"
   ]
  },
  {
   "cell_type": "code",
   "execution_count": 78,
   "id": "9e66f527-a453-4315-b2bd-87119a6b2415",
   "metadata": {},
   "outputs": [
    {
     "name": "stdout",
     "output_type": "stream",
     "text": [
      "Binomial → Mean: 5.04 | Variance: 2.62\n",
      "Poisson → Mean: 4.0 | Variance: 4.01\n"
     ]
    }
   ],
   "source": [
    "# Create a Python function to generate random samples from a given probability distribution (e.g.,\n",
    "# binomial, Poisson) and calculate their mean and variance\n",
    "\n",
    "def generate_samples(distribution, params, size=1000):\n",
    "    if distribution == 'binomial':\n",
    "        n = params.get('n')\n",
    "        p = params.get('p')\n",
    "        samples = np.random.binomial(n=n, p=p, size=size)\n",
    "    elif distribution == 'poisson':\n",
    "        lam = params.get('lam')\n",
    "        samples = np.random.poisson(lam=lam, size=size)\n",
    "    else:\n",
    "        raise ValueError(\"Unsupported distribution. Use 'binomial' or 'poisson'.\")\n",
    "\n",
    "    mean = np.mean(samples)\n",
    "    variance = np.var(samples)\n",
    "\n",
    "    return samples, mean, variance\n",
    "\n",
    "samples, mean, var = generate_samples('binomial', {'n': 10, 'p': 0.5}, size=1000)\n",
    "print(\"Binomial → Mean:\", round(mean, 2), \"| Variance:\", round(var, 2))\n",
    "\n",
    "samples, mean, var = generate_samples('poisson', {'lam': 4}, size=1000)\n",
    "print(\"Poisson → Mean:\", round(mean, 2), \"| Variance:\", round(var, 2))\n"
   ]
  },
  {
   "cell_type": "code",
   "execution_count": 11,
   "id": "4fa58dcc-88cf-45d2-a3c6-572e98565377",
   "metadata": {},
   "outputs": [
    {
     "name": "stdout",
     "output_type": "stream",
     "text": [
      "Generated 1000 samples from N(50, 10²)\n",
      "Sample Mean: 50.22\n",
      "Sample Variance: 102.82\n",
      "Sample Standard Deviation: 10.14\n"
     ]
    }
   ],
   "source": [
    "# Write a Python script to generate random numbers from a Gaussian (normal) distribution and compute\n",
    "# the mean, variance, and standard deviation of the samples.\n",
    "\n",
    "import numpy as np\n",
    "\n",
    "mean_true = 50       \n",
    "std_true = 10       \n",
    "sample_size = 1000   \n",
    "\n",
    "samples = np.random.normal(loc=mean_true, scale=std_true, size=sample_size)\n",
    "\n",
    "sample_mean = np.mean(samples)\n",
    "sample_variance = np.var(samples)       \n",
    "sample_std_dev = np.std(samples)         \n",
    "\n",
    "print(f\"Generated {sample_size} samples from N({mean_true}, {std_true}²)\")\n",
    "print(f\"Sample Mean: {sample_mean:.2f}\")\n",
    "print(f\"Sample Variance: {sample_variance:.2f}\")\n",
    "print(f\"Sample Standard Deviation: {sample_std_dev:.2f}\")"
   ]
  },
  {
   "cell_type": "code",
   "execution_count": 104,
   "id": "97a8c3e6-a50e-414a-948d-8be440053309",
   "metadata": {},
   "outputs": [
    {
     "name": "stdout",
     "output_type": "stream",
     "text": [
      "Skewness of total_bill: 1.13\n",
      "Skewness of tip: 1.47\n"
     ]
    }
   ],
   "source": [
    "# Use seaborn library to load tips dataset. Find the following from the dataset for the columns total_bill\n",
    "# and tip`:\n",
    "\n",
    "#   (i) Write a Python function that calculates their skewness.\n",
    "\n",
    "import seaborn as sns\n",
    "import pandas as pd\n",
    "\n",
    "df = sns.load_dataset(\"tips\")\n",
    "\n",
    "def calculate_skewness(series):\n",
    "    return series.skew()\n",
    "\n",
    "skew_total_bill = calculate_skewness(df['total_bill'])\n",
    "skew_tip = calculate_skewness(df['tip'])\n",
    "\n",
    "print(f\"Skewness of total_bill: {skew_total_bill:.2f}\")\n",
    "print(f\"Skewness of tip: {skew_tip:.2f}\")"
   ]
  },
  {
   "cell_type": "code",
   "execution_count": 114,
   "id": "df2b0550-f64c-4a68-9864-bdf61ec81cda",
   "metadata": {},
   "outputs": [
    {
     "name": "stdout",
     "output_type": "stream",
     "text": [
      "Skewness of total_bill: 1.13 → Positive Skewness\n",
      "Skewness of tip: 1.47 → Positive Skewness\n"
     ]
    }
   ],
   "source": [
    "# Create a program that determines whether the columns exhibit positive skewness, negative skewness, or is\n",
    "# approximately symmetric.\n",
    "\n",
    "def skewness_type(series):\n",
    "    skew = calculate_skewness(series)\n",
    "    if skew > 0.5:\n",
    "        return \"Positive Skewness\"\n",
    "    elif skew < -0.5:\n",
    "        return \"Negative Skewness\"\n",
    "    else:\n",
    "        return \"Approximately Symmetric\"\n",
    "\n",
    "col1 = 'total_bill'\n",
    "col2 = 'tip'\n",
    "print(f\"Skewness of {col1}: {calculate_skewness(df[col1]):.2f} → {skewness_type(df[col1])}\")\n",
    "print(f\"Skewness of {col2}: {calculate_skewness(df[col2]):.2f} → {skewness_type(df[col2])}\")"
   ]
  },
  {
   "cell_type": "code",
   "execution_count": 116,
   "id": "17a726d6-a24a-4e05-9ae2-606dd1cd4c11",
   "metadata": {},
   "outputs": [
    {
     "name": "stdout",
     "output_type": "stream",
     "text": [
      "Covariance between total_bill and tip: 8.29\n"
     ]
    }
   ],
   "source": [
    " # Write a function that calculates the covariance between two columns.\n",
    "\n",
    "def calculate_covariance(series1, series2):\n",
    "    return np.cov(series1, series2, bias=True)[0][1]  \n",
    "\n",
    "cov = calculate_covariance(df[col1], df[col2])\n",
    "print(f\"Covariance between {col1} and {col2}: {cov:.2f}\")"
   ]
  },
  {
   "cell_type": "code",
   "execution_count": 118,
   "id": "b6b22246-d745-4778-8ff3-af736ba9257b",
   "metadata": {},
   "outputs": [
    {
     "name": "stdout",
     "output_type": "stream",
     "text": [
      "Pearson Correlation between total_bill and tip: 0.68\n"
     ]
    }
   ],
   "source": [
    "# Implement a Python program that calculates the Pearson correlation coefficient between two columns\n",
    "\n",
    "def pearson_correlation(series1, series2):\n",
    "    return np.corrcoef(series1, series2)[0][1]\n",
    "\n",
    "corr = pearson_correlation(df[col1], df[col2])\n",
    "print(f\"Pearson Correlation between {col1} and {col2}: {corr:.2f}\")"
   ]
  },
  {
   "cell_type": "code",
   "execution_count": 122,
   "id": "f27e1133-14ab-46b6-93b8-edc4ac06a5a1",
   "metadata": {},
   "outputs": [
    {
     "data": {
      "image/png": "[encoded data removed]",
      "text/plain": [
       "<Figure size 700x500 with 1 Axes>"
      ]
     },
     "metadata": {},
     "output_type": "display_data"
    }
   ],
   "source": [
    "# Write a script to visualize the correlation between two specific columns in a Pandas DataFrame using\n",
    "# scatter plots.\n",
    "\n",
    "def visualize_scatter(df, col1, col2):\n",
    "    plt.figure(figsize=(7, 5))\n",
    "    sns.scatterplot(data=df, x=col1, y=col2)\n",
    "    plt.title(f\"Scatter Plot between {col1} and {col2}\")\n",
    "    plt.xlabel(col1)\n",
    "    plt.ylabel(col2)\n",
    "    plt.grid(True)\n",
    "    plt.show()\n",
    "\n",
    "visualize_scatter(df, col1, col2)"
   ]
  },
  {
   "cell_type": "code",
   "execution_count": 124,
   "id": "697f0b24-c090-49bb-a7b7-76864baf7e93",
   "metadata": {},
   "outputs": [
    {
     "name": "stdout",
     "output_type": "stream",
     "text": [
      "PDF at x = 50: 0.02420\n"
     ]
    }
   ],
   "source": [
    "# Write a Python function to calculate the probability density function (PDF) of a continuous random\n",
    "# variable for a given normal distribution.\n",
    "\n",
    "def normal_pdf(x, mean, std_dev):\n",
    "    exponent = math.exp(-0.5 * ((x - mean) / std_dev) ** 2)\n",
    "    denominator = std_dev * math.sqrt(2 * math.pi)\n",
    "    return exponent / denominator\n",
    "\n",
    "x_val = 50\n",
    "mean = 40\n",
    "std_dev = 10\n",
    "\n",
    "pdf_value = normal_pdf(x_val, mean, std_dev)\n",
    "print(f\"PDF at x = {x_val}: {pdf_value:.5f}\")"
   ]
  },
  {
   "cell_type": "code",
   "execution_count": 126,
   "id": "92a8e632-0410-4bc1-b4d3-084b8b3a7f0b",
   "metadata": {},
   "outputs": [
    {
     "name": "stdout",
     "output_type": "stream",
     "text": [
      "CDF at x = 3: 0.77687\n"
     ]
    }
   ],
   "source": [
    "# Create a program to calculate the cumulative distribution function (CDF) of exponential distribution\n",
    "\n",
    "def exponential_cdf(x, rate_lambda):\n",
    "    if x < 0 or rate_lambda <= 0:\n",
    "        raise ValueError(\"x must be >= 0 and lambda must be > 0\")\n",
    "    \n",
    "    return 1 - math.exp(-rate_lambda * x)\n",
    "\n",
    "x_val = 3\n",
    "rate_lambda = 0.5\n",
    "\n",
    "cdf_value = exponential_cdf(x_val, rate_lambda)\n",
    "print(f\"CDF at x = {x_val}: {cdf_value:.5f}\")"
   ]
  },
  {
   "cell_type": "code",
   "execution_count": 130,
   "id": "74077f1a-59ca-4b7f-9103-739084c86198",
   "metadata": {},
   "outputs": [
    {
     "name": "stdout",
     "output_type": "stream",
     "text": [
      "P(X = 3) for λ = 2.5 is 0.21376\n"
     ]
    }
   ],
   "source": [
    "# Write a Python function to calculate the probability mass function (PMF) of Poisson distribution\n",
    "\n",
    "def poisson_pmf(k, rate_lambda):\n",
    "    if k < 0 or rate_lambda <= 0:\n",
    "        raise ValueError(\"k must be >= 0 and lambda must be > 0\")\n",
    "    \n",
    "    return (math.exp(-rate_lambda) * (rate_lambda ** k)) / math.factorial(k)\n",
    "\n",
    "k = 3\n",
    "rate_lambda = 2.5\n",
    "\n",
    "pmf_value = poisson_pmf(k, rate_lambda)\n",
    "print(f\"P(X = {k}) for λ = {rate_lambda} is {pmf_value:.5f}\")"
   ]
  },
  {
   "cell_type": "code",
   "execution_count": 132,
   "id": "c0d802f0-449c-4858-a3ff-ec2d0a2a377b",
   "metadata": {},
   "outputs": [
    {
     "name": "stdout",
     "output_type": "stream",
     "text": [
      "Z-statistic: 1.8831\n",
      "p-value: 0.0298\n",
      "✅ Reject H₀: New layout has a significantly higher conversion rate.\n"
     ]
    }
   ],
   "source": [
    "# A company wants to test if a new website layout leads to a higher conversion rate (percentage of visitors\n",
    "# who make a purchase). They collect data from the old and new layouts to compare.\n",
    "\n",
    "import numpy as np\n",
    "from scipy.stats import norm\n",
    "\n",
    "old_layout = np.array([1] * 50 + [0] * 950)\n",
    "new_layout = np.array([1] * 70 + [0] * 930)\n",
    "\n",
    "p1 = new_layout.mean() \n",
    "p2 = old_layout.mean() \n",
    "\n",
    "n1 = len(new_layout)\n",
    "n2 = len(old_layout)\n",
    "\n",
    "p = (new_layout.sum() + old_layout.sum()) / (n1 + n2)\n",
    "\n",
    "z = (p1 - p2) / np.sqrt(p * (1 - p) * (1/n1 + 1/n2))\n",
    "\n",
    "p_value = 1 - norm.cdf(z)\n",
    "\n",
    "alpha = 0.05\n",
    "print(f\"Z-statistic: {z:.4f}\")\n",
    "print(f\"p-value: {p_value:.4f}\")\n",
    "if p_value < alpha:\n",
    "    print(\"Reject H₀: New layout has a significantly higher conversion rate.\")\n",
    "else:\n",
    "    print(\"Fail to reject H₀: No significant improvement with new layout.\")\n"
   ]
  },
  {
   "cell_type": "code",
   "execution_count": 151,
   "id": "9bf75908-db15-47d1-a67c-6884a6bcb6a1",
   "metadata": {},
   "outputs": [
    {
     "name": "stdout",
     "output_type": "stream",
     "text": [
      "Z-statistic: 4.8416\n",
      "p-value: 0.0000\n",
      "Reject H₀: The program significantly improved student scores.\n"
     ]
    }
   ],
   "source": [
    "# A tutoring service claims that its program improves students' exam scores. A sample of students who\n",
    "# participated in the program was taken, and their scores before and after the program were recorded.\n",
    "\n",
    "before_program = np.array([75, 80, 85, 70, 90, 78, 92, 88, 82, 87])\n",
    "after_program =  np.array([80, 85, 90, 80, 92, 80, 95, 90, 85, 88])\n",
    "\n",
    "differences = after_program - before_program\n",
    "\n",
    "mean_diff = np.mean(differences)\n",
    "std_diff = np.std(differences, ddof=0) \n",
    "\n",
    "n = len(differences)\n",
    "z = mean_diff / (std_diff / np.sqrt(n))\n",
    "\n",
    "p_value = 1 - norm.cdf(z)\n",
    "\n",
    "alpha = 0.05\n",
    "print(f\"Z-statistic: {z:.4f}\")\n",
    "print(f\"p-value: {p_value:.4f}\")\n",
    "if p_value < alpha:\n",
    "    print(\"Reject H₀: The program significantly improved student scores.\")\n",
    "else:\n",
    "    print(\"Fail to reject H₀: No significant improvement in scores.\")\n"
   ]
  },
  {
   "cell_type": "code",
   "execution_count": 165,
   "id": "3dd8f15a-f7fd-4069-ac90-f7ab38fd55c3",
   "metadata": {},
   "outputs": [
    {
     "name": "stdout",
     "output_type": "stream",
     "text": [
      "Z-statistic: 10.5935\n",
      "p-value: 0.0000\n",
      "Reject H₀: The drug significantly reduces blood pressure.\n"
     ]
    }
   ],
   "source": [
    "# A pharmaceutical company wants to determine if a new drug is effective in reducing blood pressure. They\n",
    "# conduct a study and record blood pressure measurements before and after administering the drug.\n",
    "\n",
    "before_drug = np.array([145, 150, 140, 135, 155, 160, 152, 148, 130, 138])\n",
    "after_drug =  np.array([130, 140, 132, 128, 145, 148, 138, 136, 125, 130])\n",
    "\n",
    "differences = before_drug - after_drug\n",
    "\n",
    "mean_diff = np.mean(differences)\n",
    "std_diff = np.std(differences) \n",
    "\n",
    "n = len(differences)\n",
    "z = mean_diff / (std_diff / np.sqrt(n))\n",
    "\n",
    "p_value = 1 - norm.cdf(z)\n",
    "\n",
    "alpha = 0.05\n",
    "print(f\"Z-statistic: {z:.4f}\")\n",
    "print(f\"p-value: {p_value:.4f}\")\n",
    "if p_value < alpha:\n",
    "    print(\"Reject H₀: The drug significantly reduces blood pressure.\")\n",
    "else:\n",
    "    print(\"Fail to reject H₀: No significant evidence the drug reduces blood pressure.\")"
   ]
  },
  {
   "cell_type": "code",
   "execution_count": 175,
   "id": "1c4cada7-0e81-496b-a337-ab0b0c960b93",
   "metadata": {},
   "outputs": [
    {
     "name": "stdout",
     "output_type": "stream",
     "text": [
      "Z-statistic: -3.3567\n",
      "p-value: 0.0004\n",
      "Reject H₀: Customer service response time is significantly less than 5 minutes.\n"
     ]
    }
   ],
   "source": [
    "# 29U A customer service department claims that their average response time is less than 5 minutes. A sample\n",
    "# of recent customer interactions was taken, and the response times were recorded.\n",
    "\n",
    "response_times = np.array([4.3, 3.8, 5.1, 4.9, 4.7, 4.2, 5.2, 4.5, 4.6, 4.4])\n",
    "\n",
    "sample_mean = np.mean(response_times)\n",
    "sample_std = np.std(response_times) \n",
    "\n",
    "mu_0 = 5\n",
    "\n",
    "n = len(response_times)\n",
    "z = (sample_mean - mu_0) / (sample_std / np.sqrt(n))\n",
    "\n",
    "p_value = norm.cdf(z)\n",
    "\n",
    "alpha = 0.05\n",
    "print(f\"Z-statistic: {z:.4f}\")\n",
    "print(f\"p-value: {p_value:.4f}\")\n",
    "if p_value < alpha:\n",
    "    print(\"Reject H₀: Customer service response time is significantly less than 5 minutes.\")\n",
    "else:\n",
    "    print(\"Fail to reject H₀: Not enough evidence that average response time is less than 5 minutes.\")\n"
   ]
  },
  {
   "cell_type": "code",
   "execution_count": 198,
   "id": "6e984469-f251-4f09-a495-e953d994dbd2",
   "metadata": {},
   "outputs": [
    {
     "name": "stdout",
     "output_type": "stream",
     "text": [
      "T-statistic: -7.2981\n",
      "Degrees of Freedom: 17.88\n",
      "P-value: 0.0000\n",
      "Reject H₀: Significant difference between the two layouts.\n"
     ]
    }
   ],
   "source": [
    "# A company is testing two different website layouts to see which one leads to higher click-through rates.\n",
    "# Write a Python function to perform an A/B test analysis, including calculating the t-statistic, degrees of\n",
    "# freedom, and p-value.\n",
    "\n",
    "from scipy.stats import t\n",
    "\n",
    "def ab_test_analysis(group1, group2):\n",
    "    group1 = np.array(group1)\n",
    "    group2 = np.array(group2)\n",
    "    \n",
    "    n1, n2 = len(group1), len(group2)\n",
    "    \n",
    "    mean1, mean2 = np.mean(group1), np.mean(group2)\n",
    "    var1, var2 = np.var(group1, ddof=1), np.var(group2, ddof=1)\n",
    "    \n",
    "    t_stat = (mean1 - mean2) / np.sqrt(var1/n1 + var2/n2)\n",
    "    \n",
    "    df = (var1/n1 + var2/n2)**2 / ((var1**2)/((n1**2)*(n1 - 1)) + (var2**2)/((n2**2)*(n2 - 1)))\n",
    "    \n",
    "    p_value = 2 * t.sf(np.abs(t_stat), df)\n",
    "    \n",
    "    print(f\"T-statistic: {t_stat:.4f}\")\n",
    "    print(f\"Degrees of Freedom: {df:.2f}\")\n",
    "    print(f\"P-value: {p_value:.4f}\")\n",
    "    \n",
    "    alpha = 0.05\n",
    "    if p_value < alpha:\n",
    "        print(\"Reject H₀: Significant difference between the two layouts.\")\n",
    "    else:\n",
    "        print(\"Fail to reject H₀: No significant difference between the layouts.\")\n",
    "\n",
    "layout_a_clicks = [28, 32, 33, 29, 31, 34, 30, 35, 36, 37]\n",
    "layout_b_clicks = [40, 41, 38, 42, 39, 44, 43, 41, 45, 47]\n",
    "\n",
    "ab_test_analysis(layout_a_clicks, layout_b_clicks)"
   ]
  },
  {
   "cell_type": "code",
   "execution_count": 201,
   "id": "1779c761-54fb-4ccc-9a8a-102e014a1660",
   "metadata": {},
   "outputs": [
    {
     "name": "stdout",
     "output_type": "stream",
     "text": [
      "T-statistic: 4.1405\n",
      "P-value: 0.0006\n",
      "Reject the null hypothesis: The new drug is significantly more effective.\n"
     ]
    }
   ],
   "source": [
    "# 2êU A pharmaceutical company wants to determine if a new drug is more effective than an existing drug in\n",
    "# reducing cholesterol levels. Create a program to analyze the clinical trial data and calculate the tstatistic and p-value for the treatment effect.\n",
    "\n",
    "import numpy as np\n",
    "from scipy import stats\n",
    "\n",
    "existing_drug_levels = [180, 182, 175, 185, 178, 176, 172, 184, 179, 183]\n",
    "new_drug_levels = [170, 172, 165, 168, 175, 173, 170, 178, 172, 176]\n",
    "\n",
    "existing = np.array(existing_drug_levels)\n",
    "new = np.array(new_drug_levels)\n",
    "\n",
    "t_stat, p_value = stats.ttest_ind(existing, new, equal_var=False)\n",
    "\n",
    "print(f\"T-statistic: {t_stat:.4f}\")\n",
    "print(f\"P-value: {p_value:.4f}\")\n",
    "\n",
    "alpha = 0.05\n",
    "if p_value < alpha:\n",
    "    print(\"Reject the null hypothesis: The new drug is significantly more effective.\")\n",
    "else:\n",
    "    print(\"Fail to reject the null hypothesis: No significant difference found.\")"
   ]
  },
  {
   "cell_type": "code",
   "execution_count": 203,
   "id": "ec4517a8-b881-4525-b9b4-ce191be9a6ba",
   "metadata": {},
   "outputs": [
    {
     "name": "stdout",
     "output_type": "stream",
     "text": [
      "T-statistic: 4.4284\n",
      "P-value: 0.0017\n",
      "✅ The intervention had a statistically significant impact on math scores.\n"
     ]
    }
   ],
   "source": [
    "# U A school district introduces an educational intervention program to improve math scores. Write a Python\n",
    "# function to analyze pre- and post-intervention test scores, calculating the t-statistic and p-value to\n",
    "# determine if the intervention had a significant impact.\n",
    "\n",
    "def analyze_intervention(pre_scores, post_scores, alpha=0.05):\n",
    "    pre = np.array(pre_scores)\n",
    "    post = np.array(post_scores)\n",
    "\n",
    "    t_stat, p_value = stats.ttest_rel(post, pre)\n",
    "\n",
    "    print(f\"T-statistic: {t_stat:.4f}\")\n",
    "    print(f\"P-value: {p_value:.4f}\")\n",
    "\n",
    "    if p_value < alpha:\n",
    "        print(\"The intervention had a statistically significant impact on math scores.\")\n",
    "    else:\n",
    "        print(\"No statistically significant impact detected.\")\n",
    "\n",
    "pre_intervention_scores = [80, 85, 90, 75, 88, 82, 92, 78, 85, 87]\n",
    "post_intervention_scores = [90, 92, 88, 92, 95, 91, 96, 93, 89, 93]\n",
    "\n",
    "analyze_intervention(pre_intervention_scores, post_intervention_scores)"
   ]
  },
  {
   "cell_type": "code",
   "execution_count": 208,
   "id": "b41e9b07-0595-4876-bdfe-a46dea34eab3",
   "metadata": {},
   "outputs": [
    {
     "name": "stdout",
     "output_type": "stream",
     "text": [
      "T-statistic: 0.06\n",
      "P-value: 0.9516\n",
      "No Significant Difference in Salaries\n"
     ]
    }
   ],
   "source": [
    "#  An HR department wants to investigate if there's a gender-based salary gap within the company. Develop\n",
    "# a program to analyze salary data, calculate the t-statistic, and determine if there's a statistically\n",
    "# significant difference between the average salaries of male and female employees.\n",
    "\n",
    "from scipy.stats import ttest_ind\n",
    "\n",
    "np.random.seed(0)\n",
    "male_salaries = np.random.normal(loc=50000, scale=10000, size=20)\n",
    "female_salaries = np.random.normal(loc=55000, scale=9000, size=20)\n",
    "\n",
    "t_stat, p_value = ttest_ind(male_salaries, female_salaries)\n",
    "\n",
    "print(f\"T-statistic: {t_stat:.2f}\")\n",
    "print(f\"P-value: {p_value:.4f}\")\n",
    "print(\"Significant Difference in Salaries\" if p_value < 0.05 else \"No Significant Difference in Salaries\")"
   ]
  },
  {
   "cell_type": "code",
   "execution_count": 12,
   "id": "055949f5-29e0-49f2-8963-d1d25034dd46",
   "metadata": {},
   "outputs": [
    {
     "name": "stdout",
     "output_type": "stream",
     "text": [
      "T-statistic: 11.3258\n",
      "P-value: 0.0000\n",
      "There is a statistically significant difference in quality between the two versions.\n"
     ]
    }
   ],
   "source": [
    "# A manufacturer produces two different versions of a product and wants to compare their quality scores.\n",
    "# Create a Python function to analyze quality assessment data, calculate the t-statistic, and decide\n",
    "# whether there's a significant difference in quality between the two versions.\n",
    "\n",
    "from scipy.stats import ttest_ind\n",
    "\n",
    "version1_scores = [85, 88, 82, 89, 87, 84, 90, 88, 85, 86, 91, 83, 87, 84, 89, 86, 84, 88, 85, 86, 89, 90, 87, 88, 85]\n",
    "version2_scores = [80, 78, 83, 81, 79, 82, 76, 80, 78, 81, 77, 82, 80, 79, 82, 79, 80, 81, 79, 82, 79, 78, 80, 81, 82]\n",
    "\n",
    "def compare_product_versions(version1_scores, version2_scores, alpha=0.05):\n",
    "    t_stat, p_value = ttest_ind(version1_scores, version2_scores)\n",
    "\n",
    "    print(f\"T-statistic: {t_stat:.4f}\")\n",
    "    print(f\"P-value: {p_value:.4f}\")\n",
    "\n",
    "    if p_value < alpha:\n",
    "        print(\"There is a statistically significant difference in quality between the two versions.\")\n",
    "    else:\n",
    "        print(\"There is no statistically significant difference in quality between the two versions.\")\n",
    "\n",
    "compare_product_versions(version1_scores, version2_scores)"
   ]
  },
  {
   "cell_type": "code",
   "execution_count": 14,
   "id": "016ed918-f356-4f18-adeb-426cfe2ec8d5",
   "metadata": {},
   "outputs": [
    {
     "name": "stdout",
     "output_type": "stream",
     "text": [
      "T-statistic: 5.4801\n",
      "P-value: 0.0000\n",
      "Significant difference in customer satisfaction between the two branches.\n"
     ]
    }
   ],
   "source": [
    "#  A restaurant chain collects customer satisfaction scores for two different branches. Write a program to\n",
    "# analyze the scores, calculate the t-statistic, and determine if there's a statistically significant difference in\n",
    "# customer satisfaction between the branches.\n",
    "\n",
    "from scipy.stats import ttest_ind\n",
    "\n",
    "branch_a_scores = [4, 5, 3, 4, 5, 4, 5, 3, 4, 4, 5, 4, 4, 3, 4, 5, 5, 4, 3, 4, 5, 4, 3, 5, 4, 4, 5, 3, 4, 5, 4]\n",
    "branch_b_scores = [3, 4, 2, 3, 4, 3, 4, 2, 3, 3, 4, 3, 3, 2, 3, 4, 4, 3, 2, 3, 4, 3, 2, 4, 3, 3, 4, 2, 3, 4, 3]\n",
    "\n",
    "def compare_branch_satisfaction(branch_a_scores, branch_b_scores, alpha=0.05):\n",
    "    t_stat, p_value = ttest_ind(branch_a_scores, branch_b_scores)\n",
    "    \n",
    "    print(f\"T-statistic: {t_stat:.4f}\")\n",
    "    print(f\"P-value: {p_value:.4f}\")\n",
    "\n",
    "    if p_value < alpha:\n",
    "        print(\"Significant difference in customer satisfaction between the two branches.\")\n",
    "    else:\n",
    "        print(\"No significant difference in customer satisfaction between the two branches.\")\n",
    "\n",
    "compare_branch_satisfaction(branch_a_scores, branch_b_scores)"
   ]
  },
  {
   "cell_type": "code",
   "execution_count": 28,
   "id": "6dbed766-a43d-46d6-9841-8b92ffd5a8d5",
   "metadata": {},
   "outputs": [
    {
     "name": "stdout",
     "output_type": "stream",
     "text": [
      "Contingency Table:\n",
      " Voter Preference  Candidate A  Candidate B\n",
      "Age Group                                 \n",
      "18-30                       4            8\n",
      "31-50                       6            5\n",
      "51+                         4            3\n",
      "\n",
      "Chi-Square Statistic: 1.4402\n",
      "Degrees of Freedom: 2\n",
      "P-value: 0.4867\n",
      "There is no statistically significant association between age group and voter preference.\n"
     ]
    }
   ],
   "source": [
    "# A political analyst wants to determine if there is a significant association between age groups and voter\n",
    "# preferences (Candidate A or Candidate B). They collect data from a sample of 500 voters and classify\n",
    "# them into different age groups and candidate preferences. Perform a Chi-Square test to determine if\n",
    "# there is a significant association between age groups and voter preferenc\n",
    "\n",
    "import numpy as np\n",
    "import pandas as pd\n",
    "from scipy.stats import chi2_contingency\n",
    "\n",
    "np.random.seed(0)\n",
    "age_groups = np.random.choice(['18-30', '31-50', '51+'], size=30)\n",
    "voter_preferences = np.random.choice(['Candidate A', 'Candidate B'], size=30)\n",
    "\n",
    "data = pd.DataFrame({'Age Group': age_groups,'Voter Preference': voter_preferences})\n",
    "contingency_table = pd.crosstab(data['Age Group'], data['Voter Preference'])\n",
    "\n",
    "chi2, p, dof, expected = chi2_contingency(contingency_table)\n",
    "\n",
    "print(\"Contingency Table:\\n\", contingency_table)\n",
    "print(f\"\\nChi-Square Statistic: {chi2:.4f}\")\n",
    "print(f\"Degrees of Freedom: {dof}\")\n",
    "print(f\"P-value: {p:.4f}\")\n",
    "\n",
    "alpha = 0.05\n",
    "if p < alpha:\n",
    "    print(\"There is a statistically significant association between age group and voter preference.\")\n",
    "else:\n",
    "    print(\"There is no statistically significant association between age group and voter preference.\")\n"
   ]
  },
  {
   "cell_type": "code",
   "execution_count": 32,
   "id": "80c33d03-c82c-44e9-b00e-9d7fccedbbef",
   "metadata": {},
   "outputs": [
    {
     "name": "stdout",
     "output_type": "stream",
     "text": [
      "Chi-Square Statistic: 27.7771\n",
      "Degrees of Freedom: 6\n",
      "P-value: 0.0001\n",
      "There is a statistically significant relationship between satisfaction level and region.\n"
     ]
    }
   ],
   "source": [
    "# A company conducted a customer satisfaction survey to determine if there is a significant relationship\n",
    "# between product satisfaction levels (Satisfied, Neutral, Dissatisfied) and the region where customers are\n",
    "# located (East, West, North, South). The survey data is summarized in a contingency table. Conduct a \n",
    "# ChiSquare test to determine if there is a significant relationship between product satisfaction levels and\n",
    "# customer regions.\n",
    "\n",
    "import numpy as np\n",
    "from scipy.stats import chi2_contingency\n",
    "\n",
    "data = np.array([[50, 30, 40, 20], [30, 40, 30, 50], [20, 30, 40, 30]])\n",
    "\n",
    "chi2, p, dof, expected = chi2_contingency(data)\n",
    "\n",
    "print(\"Chi-Square Statistic:\", round(chi2, 4))\n",
    "print(\"Degrees of Freedom:\", dof)\n",
    "print(\"P-value:\", round(p, 4))\n",
    "\n",
    "alpha = 0.05\n",
    "if p < alpha:\n",
    "    print(\"There is a statistically significant relationship between satisfaction level and region.\")\n",
    "else:\n",
    "    print(\"There is no statistically significant relationship between satisfaction level and region.\")"
   ]
  },
  {
   "cell_type": "code",
   "execution_count": 34,
   "id": "780d3b72-738d-4003-a93d-8b0b9c0d4767",
   "metadata": {},
   "outputs": [
    {
     "name": "stdout",
     "output_type": "stream",
     "text": [
      "Chi-Square Statistic: 22.1617\n",
      "Degrees of Freedom: 4\n",
      "P-value: 0.0002\n",
      "Statistically significant difference in job performance after the training.\n"
     ]
    }
   ],
   "source": [
    "# . A company implemented an employee training program to improve job performance (Effective, Neutral,\n",
    "# Ineffective). After the training, they collected data from a sample of employees and classified them based\n",
    "# on their job performance before and after the training. Perform a Chi-Square test to determine if there is a\n",
    "# significant difference between job performance levels before and after the training.\n",
    "\n",
    "import numpy as np\n",
    "from scipy.stats import chi2_contingency\n",
    "\n",
    "data = np.array([\n",
    "    [50, 30, 20], \n",
    "    [30, 40, 30], \n",
    "    [20, 30, 40]  \n",
    "])\n",
    "\n",
    "chi2, p_value, dof, expected = chi2_contingency(data)\n",
    "\n",
    "print(\"Chi-Square Statistic:\", round(chi2, 4))\n",
    "print(\"Degrees of Freedom:\", dof)\n",
    "print(\"P-value:\", round(p_value, 4))\n",
    "\n",
    "alpha = 0.05\n",
    "if p_value < alpha:\n",
    "    print(\"Statistically significant difference in job performance after the training.\")\n",
    "else:\n",
    "    print(\"No statistically significant difference in job performance after the training.\")"
   ]
  },
  {
   "cell_type": "code",
   "execution_count": 36,
   "id": "58207dc5-462c-41e7-8a3d-cd28bda1b05a",
   "metadata": {},
   "outputs": [
    {
     "name": "stdout",
     "output_type": "stream",
     "text": [
      "F-statistic: 27.0356\n",
      "P-value: 0.0\n",
      "Statistically significant difference in customer satisfaction among the product versions.\n"
     ]
    }
   ],
   "source": [
    "# A company produces three different versions of a product: Standard, Premium, and Deluxe. The\n",
    "# company wants to determine if there is a significant difference in customer satisfaction scores among the\n",
    "# three product versions. They conducted a survey and collected customer satisfaction scores for each\n",
    "# version from a random sample of customers. Perform an ANOVA test to determine if there is a significant\n",
    "# difference in customer satisfaction scores.\n",
    "\n",
    "from scipy.stats import f_oneway\n",
    "\n",
    "standard_scores = [80, 85, 90, 78, 88, 82, 92, 78, 85, 87]\n",
    "premium_scores  = [90, 92, 88, 92, 95, 91, 96, 93, 89, 93]\n",
    "deluxe_scores   = [95, 98, 92, 97, 96, 94, 98, 97, 92, 99]\n",
    "\n",
    "f_stat, p_value = f_oneway(standard_scores, premium_scores, deluxe_scores)\n",
    "\n",
    "print(\"F-statistic:\", round(f_stat, 4))\n",
    "print(\"P-value:\", round(p_value, 4))\n",
    "\n",
    "alpha = 0.05\n",
    "if p_value < alpha:\n",
    "    print(\"Statistically significant difference in customer satisfaction among the product versions.\")\n",
    "else:\n",
    "    print(\"No statistically significant difference in customer satisfaction among the product versions.\")"
   ]
  },
  {
   "cell_type": "code",
   "execution_count": null,
   "id": "4c0f8997-bdfb-4edc-aebf-2d3cc8701c81",
   "metadata": {},
   "outputs": [],
   "source": []
  }
 ],
 "metadata": {
  "kernelspec": {
   "display_name": "Python [conda env:base] *",
   "language": "python",
   "name": "conda-base-py"
  },
  "language_info": {
   "codemirror_mode": {
    "name": "ipython",
    "version": 3
   },
   "file_extension": ".py",
   "mimetype": "text/x-python",
   "name": "python",
   "nbconvert_exporter": "python",
   "pygments_lexer": "ipython3",
   "version": "3.11.5"
  }
 },
 "nbformat": 4,
 "nbformat_minor": 5
}
